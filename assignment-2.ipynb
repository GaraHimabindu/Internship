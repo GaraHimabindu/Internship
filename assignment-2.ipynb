{
 "cells": [
  {
   "cell_type": "markdown",
   "id": "b51f342b",
   "metadata": {},
   "source": [
    "# 1.\"DATA ANALYST\""
   ]
  },
  {
   "cell_type": "code",
   "execution_count": 1,
   "id": "15dbfc77",
   "metadata": {},
   "outputs": [
    {
     "name": "stdout",
     "output_type": "stream",
     "text": [
      "Requirement already satisfied: selenium in c:\\users\\bindu\\anaconda3\\lib\\site-packages (4.1.2)\n",
      "Requirement already satisfied: trio-websocket~=0.9 in c:\\users\\bindu\\anaconda3\\lib\\site-packages (from selenium) (0.9.2)\n",
      "Requirement already satisfied: trio~=0.17 in c:\\users\\bindu\\anaconda3\\lib\\site-packages (from selenium) (0.20.0)\n",
      "Requirement already satisfied: urllib3[secure,socks]~=1.26 in c:\\users\\bindu\\anaconda3\\lib\\site-packages (from selenium) (1.26.7)\n",
      "Requirement already satisfied: sortedcontainers in c:\\users\\bindu\\anaconda3\\lib\\site-packages (from trio~=0.17->selenium) (2.4.0)\n",
      "Requirement already satisfied: attrs>=19.2.0 in c:\\users\\bindu\\anaconda3\\lib\\site-packages (from trio~=0.17->selenium) (21.2.0)\n",
      "Requirement already satisfied: cffi>=1.14 in c:\\users\\bindu\\anaconda3\\lib\\site-packages (from trio~=0.17->selenium) (1.14.6)\n",
      "Requirement already satisfied: async-generator>=1.9 in c:\\users\\bindu\\anaconda3\\lib\\site-packages (from trio~=0.17->selenium) (1.10)\n",
      "Requirement already satisfied: idna in c:\\users\\bindu\\anaconda3\\lib\\site-packages (from trio~=0.17->selenium) (3.2)\n",
      "Requirement already satisfied: outcome in c:\\users\\bindu\\anaconda3\\lib\\site-packages (from trio~=0.17->selenium) (1.1.0)\n",
      "Requirement already satisfied: sniffio in c:\\users\\bindu\\anaconda3\\lib\\site-packages (from trio~=0.17->selenium) (1.2.0)\n",
      "Requirement already satisfied: pycparser in c:\\users\\bindu\\anaconda3\\lib\\site-packages (from cffi>=1.14->trio~=0.17->selenium) (2.20)\n",
      "Requirement already satisfied: wsproto>=0.14 in c:\\users\\bindu\\anaconda3\\lib\\site-packages (from trio-websocket~=0.9->selenium) (1.1.0)\n",
      "Requirement already satisfied: pyOpenSSL>=0.14 in c:\\users\\bindu\\anaconda3\\lib\\site-packages (from urllib3[secure,socks]~=1.26->selenium) (21.0.0)\n",
      "Requirement already satisfied: cryptography>=1.3.4 in c:\\users\\bindu\\anaconda3\\lib\\site-packages (from urllib3[secure,socks]~=1.26->selenium) (3.4.8)\n",
      "Requirement already satisfied: certifi in c:\\users\\bindu\\anaconda3\\lib\\site-packages (from urllib3[secure,socks]~=1.26->selenium) (2021.10.8)\n",
      "Requirement already satisfied: PySocks!=1.5.7,<2.0,>=1.5.6 in c:\\users\\bindu\\anaconda3\\lib\\site-packages (from urllib3[secure,socks]~=1.26->selenium) (1.7.1)\n",
      "Requirement already satisfied: six>=1.5.2 in c:\\users\\bindu\\anaconda3\\lib\\site-packages (from pyOpenSSL>=0.14->urllib3[secure,socks]~=1.26->selenium) (1.16.0)\n",
      "Requirement already satisfied: h11<1,>=0.9.0 in c:\\users\\bindu\\anaconda3\\lib\\site-packages (from wsproto>=0.14->trio-websocket~=0.9->selenium) (0.13.0)\n"
     ]
    }
   ],
   "source": [
    "!pip install selenium"
   ]
  },
  {
   "cell_type": "code",
   "execution_count": 1,
   "id": "946568ec",
   "metadata": {},
   "outputs": [],
   "source": [
    "import selenium\n",
    "from selenium import webdriver\n",
    "import pandas as pd\n",
    "import warnings\n",
    "warnings.filterwarnings(\"ignore\")"
   ]
  },
  {
   "cell_type": "code",
   "execution_count": 2,
   "id": "87ff51b1",
   "metadata": {},
   "outputs": [
    {
     "data": {
      "text/plain": [
       "<selenium.webdriver.chrome.webdriver.WebDriver (session=\"0597d90ddc0386cf7efa9a7a652a67d6\")>"
      ]
     },
     "execution_count": 2,
     "metadata": {},
     "output_type": "execute_result"
    }
   ],
   "source": [
    "driver= webdriver.Chrome(r'C:/Users/bindu/Downloads/chromedriver_win32/chromedriver.exe')\n",
    "driver"
   ]
  },
  {
   "cell_type": "code",
   "execution_count": 3,
   "id": "b6cdfb3a",
   "metadata": {},
   "outputs": [],
   "source": [
    "url='https://www.naukri.com/'\n",
    "driver.get(url)"
   ]
  },
  {
   "cell_type": "code",
   "execution_count": 4,
   "id": "373533a6",
   "metadata": {},
   "outputs": [
    {
     "data": {
      "text/plain": [
       "<selenium.webdriver.remote.webelement.WebElement (session=\"0597d90ddc0386cf7efa9a7a652a67d6\", element=\"ba9c79d0-a6d0-40b2-88c8-7e220bedeeea\")>"
      ]
     },
     "execution_count": 4,
     "metadata": {},
     "output_type": "execute_result"
    }
   ],
   "source": [
    "search_job= driver.find_element_by_class_name(\"suggestor-input\")\n",
    "search_job"
   ]
  },
  {
   "cell_type": "code",
   "execution_count": 5,
   "id": "51493c93",
   "metadata": {},
   "outputs": [],
   "source": [
    "search_job.send_keys(\"Data Analyst\")"
   ]
  },
  {
   "cell_type": "code",
   "execution_count": 6,
   "id": "e79af6db",
   "metadata": {},
   "outputs": [
    {
     "data": {
      "text/plain": [
       "<selenium.webdriver.remote.webelement.WebElement (session=\"0597d90ddc0386cf7efa9a7a652a67d6\", element=\"5f3bf5c9-cd77-444c-b2f3-152617f7fe3a\")>"
      ]
     },
     "execution_count": 6,
     "metadata": {},
     "output_type": "execute_result"
    }
   ],
   "source": [
    "search_locn= driver.find_element_by_xpath('/html/body/div/div[2]/div[3]/div/div/div[3]/div/div/div/input')\n",
    "search_locn"
   ]
  },
  {
   "cell_type": "code",
   "execution_count": 7,
   "id": "7d391206",
   "metadata": {},
   "outputs": [],
   "source": [
    "search_locn.send_keys(\"Banglore\")"
   ]
  },
  {
   "cell_type": "code",
   "execution_count": 8,
   "id": "ac7a9fe5",
   "metadata": {},
   "outputs": [
    {
     "data": {
      "text/plain": [
       "<selenium.webdriver.remote.webelement.WebElement (session=\"0597d90ddc0386cf7efa9a7a652a67d6\", element=\"9fca7f93-d2e6-4da6-9074-0ce8cfd2dc5e\")>"
      ]
     },
     "execution_count": 8,
     "metadata": {},
     "output_type": "execute_result"
    }
   ],
   "source": [
    "search_btn= driver.find_element_by_xpath('/html/body/div/div[2]/div[3]/div/div/div[6]')\n",
    "search_btn"
   ]
  },
  {
   "cell_type": "code",
   "execution_count": 9,
   "id": "e344214c",
   "metadata": {},
   "outputs": [],
   "source": [
    "search_btn.click()"
   ]
  },
  {
   "cell_type": "code",
   "execution_count": 10,
   "id": "9d6cca44",
   "metadata": {},
   "outputs": [],
   "source": [
    "title_tags= driver.find_elements_by_xpath('//a[@class=\"title fw500 ellipsis\"]')"
   ]
  },
  {
   "cell_type": "code",
   "execution_count": 11,
   "id": "629278d6",
   "metadata": {},
   "outputs": [
    {
     "data": {
      "text/plain": [
       "['Flight data analyst (372)',\n",
       " 'Senior Data Analyst',\n",
       " 'Senior Data Analyst',\n",
       " 'Looking For Data Analyst',\n",
       " 'software developer & Testing / Business Analyst/Data Analyst/Python.',\n",
       " 'Staff Business Data Analyst - FDP',\n",
       " 'Data Analyst - IIM/ISB/MDI/FMS/SP Jain',\n",
       " 'Senior Data Analyst',\n",
       " 'Senior Data Analyst',\n",
       " 'Senior Data Analyst (Digital Services Analytics)']"
      ]
     },
     "execution_count": 11,
     "metadata": {},
     "output_type": "execute_result"
    }
   ],
   "source": [
    "job_titles = []\n",
    "\n",
    "for i in title_tags:\n",
    "    job_titles.append(i.text)\n",
    "len(job_titles)\n",
    "job_titles[0:10]\n",
    "\n",
    "job_titles1= []\n",
    "for i in range(0, 10):\n",
    "    job_titles1.append(job_titles[i])\n",
    "    \n",
    "job_titles1\n",
    "    "
   ]
  },
  {
   "cell_type": "code",
   "execution_count": 12,
   "id": "145b878b",
   "metadata": {},
   "outputs": [
    {
     "data": {
      "text/plain": [
       "[<selenium.webdriver.remote.webelement.WebElement (session=\"0597d90ddc0386cf7efa9a7a652a67d6\", element=\"d81f32dd-64f5-45e1-b72d-d56fd5681d51\")>,\n",
       " <selenium.webdriver.remote.webelement.WebElement (session=\"0597d90ddc0386cf7efa9a7a652a67d6\", element=\"16bb7dbb-8468-4116-b7cd-afe2ad133208\")>,\n",
       " <selenium.webdriver.remote.webelement.WebElement (session=\"0597d90ddc0386cf7efa9a7a652a67d6\", element=\"828bb9f6-a435-4296-b187-9fa5e3b6a713\")>,\n",
       " <selenium.webdriver.remote.webelement.WebElement (session=\"0597d90ddc0386cf7efa9a7a652a67d6\", element=\"7d6567b8-cd07-4d2d-af9e-c76409744e18\")>,\n",
       " <selenium.webdriver.remote.webelement.WebElement (session=\"0597d90ddc0386cf7efa9a7a652a67d6\", element=\"935ee3e5-fd58-49a7-a3e3-2ce1ef1590d0\")>,\n",
       " <selenium.webdriver.remote.webelement.WebElement (session=\"0597d90ddc0386cf7efa9a7a652a67d6\", element=\"ccc63826-60fe-4377-989b-6c4309d81c8c\")>,\n",
       " <selenium.webdriver.remote.webelement.WebElement (session=\"0597d90ddc0386cf7efa9a7a652a67d6\", element=\"027d0d97-5ec1-47b4-a696-399eb30151aa\")>,\n",
       " <selenium.webdriver.remote.webelement.WebElement (session=\"0597d90ddc0386cf7efa9a7a652a67d6\", element=\"6c5272a3-be85-403b-b1f6-2aee6dfc1d67\")>,\n",
       " <selenium.webdriver.remote.webelement.WebElement (session=\"0597d90ddc0386cf7efa9a7a652a67d6\", element=\"ed7f4a09-30de-4ef9-81c3-d2158d5da49a\")>,\n",
       " <selenium.webdriver.remote.webelement.WebElement (session=\"0597d90ddc0386cf7efa9a7a652a67d6\", element=\"192a503f-af9c-486b-b6dc-5895ef75f2e6\")>]"
      ]
     },
     "execution_count": 12,
     "metadata": {},
     "output_type": "execute_result"
    }
   ],
   "source": [
    "company_tags= driver.find_elements_by_xpath('//a[@class=\"subTitle ellipsis fleft\"]')\n",
    "company_tags[0:10]"
   ]
  },
  {
   "cell_type": "code",
   "execution_count": 13,
   "id": "80077935",
   "metadata": {},
   "outputs": [
    {
     "data": {
      "text/plain": [
       "['NEST DIGITAL PRIVATE LIMITED',\n",
       " 'Capco',\n",
       " 'Mobile Premier League',\n",
       " 'Trellance',\n",
       " 'SECRET TECHNOLOGIES INDIA VMS GROUP',\n",
       " 'Intuit Inc.',\n",
       " 'K12 Techno Services Pvt Ltd',\n",
       " 'Flipkart',\n",
       " 'Flipkart',\n",
       " 'Dell']"
      ]
     },
     "execution_count": 13,
     "metadata": {},
     "output_type": "execute_result"
    }
   ],
   "source": [
    "company_names = []\n",
    "for i in company_tags:\n",
    "    company_names.append(i.text)\n",
    "company_names[0:10]\n",
    "\n",
    "company_names1= []\n",
    "for i in range(0, 10):\n",
    "    company_names1.append(company_names[i])\n",
    "    \n",
    "company_names1"
   ]
  },
  {
   "cell_type": "code",
   "execution_count": 14,
   "id": "f14b6ce1",
   "metadata": {},
   "outputs": [
    {
     "data": {
      "text/plain": [
       "20"
      ]
     },
     "execution_count": 14,
     "metadata": {},
     "output_type": "execute_result"
    }
   ],
   "source": [
    "location_tags= driver.find_elements_by_xpath('//li[@class=\"fleft grey-text br2 placeHolderLi location\"]')\n",
    "len(location_tags)"
   ]
  },
  {
   "cell_type": "code",
   "execution_count": 15,
   "id": "d9a2e03e",
   "metadata": {},
   "outputs": [
    {
     "data": {
      "text/plain": [
       "['Bangalore/Bengaluru',\n",
       " 'Bangalore/Bengaluru',\n",
       " 'Bangalore/Bengaluru',\n",
       " 'Ahmedabad, Bangalore/Bengaluru',\n",
       " 'Pune, Bangalore/Bengaluru(Shivaji Nagar), Mumbai (All Areas)\\n(WFH during Covid)',\n",
       " 'Bangalore/Bengaluru',\n",
       " 'Bangalore/Bengaluru',\n",
       " 'Bangalore/Bengaluru',\n",
       " 'Bangalore/Bengaluru',\n",
       " 'Bangalore/Bengaluru']"
      ]
     },
     "execution_count": 15,
     "metadata": {},
     "output_type": "execute_result"
    }
   ],
   "source": [
    "location= []\n",
    "for i in location_tags:\n",
    "    location.append(i.text)\n",
    "location[0:10]\n",
    "\n",
    "location1= []\n",
    "for i in range(0, 10):\n",
    "    location1.append(location[i])\n",
    "    \n",
    "location1"
   ]
  },
  {
   "cell_type": "code",
   "execution_count": 16,
   "id": "42510acd",
   "metadata": {},
   "outputs": [
    {
     "data": {
      "text/plain": [
       "19"
      ]
     },
     "execution_count": 16,
     "metadata": {},
     "output_type": "execute_result"
    }
   ],
   "source": [
    "experience_tags= driver.find_elements_by_xpath('//li[@class=\"fleft grey-text br2 placeHolderLi experience\"]')\n",
    "len(experience_tags)"
   ]
  },
  {
   "cell_type": "code",
   "execution_count": 17,
   "id": "21e56122",
   "metadata": {},
   "outputs": [
    {
     "data": {
      "text/plain": [
       "['0-1 Yrs',\n",
       " '4-8 Yrs',\n",
       " '3-6 Yrs',\n",
       " '0-2 Yrs',\n",
       " '0-4 Yrs',\n",
       " '5-7 Yrs',\n",
       " '4-9 Yrs',\n",
       " '3-6 Yrs',\n",
       " '3-7 Yrs',\n",
       " '1-6 Yrs']"
      ]
     },
     "execution_count": 17,
     "metadata": {},
     "output_type": "execute_result"
    }
   ],
   "source": [
    "experience= []\n",
    "for i in experience_tags:\n",
    "    experience.append(i.text)\n",
    "experience[0:10]\n",
    "\n",
    "experience1= []\n",
    "for i in range(0, 10):\n",
    "    experience1.append(experience[i])\n",
    "    \n",
    "experience1"
   ]
  },
  {
   "cell_type": "code",
   "execution_count": 18,
   "id": "ad654371",
   "metadata": {},
   "outputs": [
    {
     "data": {
      "text/plain": [
       "(10, 10, 10, 10)"
      ]
     },
     "execution_count": 18,
     "metadata": {},
     "output_type": "execute_result"
    }
   ],
   "source": [
    "len(job_titles1),len(company_names1),len(experience1),len(location1)"
   ]
  },
  {
   "cell_type": "code",
   "execution_count": 19,
   "id": "f64b8220",
   "metadata": {},
   "outputs": [
    {
     "data": {
      "text/html": [
       "<div>\n",
       "<style scoped>\n",
       "    .dataframe tbody tr th:only-of-type {\n",
       "        vertical-align: middle;\n",
       "    }\n",
       "\n",
       "    .dataframe tbody tr th {\n",
       "        vertical-align: top;\n",
       "    }\n",
       "\n",
       "    .dataframe thead th {\n",
       "        text-align: right;\n",
       "    }\n",
       "</style>\n",
       "<table border=\"1\" class=\"dataframe\">\n",
       "  <thead>\n",
       "    <tr style=\"text-align: right;\">\n",
       "      <th></th>\n",
       "      <th>Job Title</th>\n",
       "      <th>Company</th>\n",
       "      <th>Experience</th>\n",
       "      <th>Location</th>\n",
       "    </tr>\n",
       "  </thead>\n",
       "  <tbody>\n",
       "    <tr>\n",
       "      <th>0</th>\n",
       "      <td>Flight data analyst (372)</td>\n",
       "      <td>NEST DIGITAL PRIVATE LIMITED</td>\n",
       "      <td>0-1 Yrs</td>\n",
       "      <td>Bangalore/Bengaluru</td>\n",
       "    </tr>\n",
       "    <tr>\n",
       "      <th>1</th>\n",
       "      <td>Senior Data Analyst</td>\n",
       "      <td>Capco</td>\n",
       "      <td>4-8 Yrs</td>\n",
       "      <td>Bangalore/Bengaluru</td>\n",
       "    </tr>\n",
       "    <tr>\n",
       "      <th>2</th>\n",
       "      <td>Senior Data Analyst</td>\n",
       "      <td>Mobile Premier League</td>\n",
       "      <td>3-6 Yrs</td>\n",
       "      <td>Bangalore/Bengaluru</td>\n",
       "    </tr>\n",
       "    <tr>\n",
       "      <th>3</th>\n",
       "      <td>Looking For Data Analyst</td>\n",
       "      <td>Trellance</td>\n",
       "      <td>0-2 Yrs</td>\n",
       "      <td>Ahmedabad, Bangalore/Bengaluru</td>\n",
       "    </tr>\n",
       "    <tr>\n",
       "      <th>4</th>\n",
       "      <td>software developer &amp; Testing / Business Analys...</td>\n",
       "      <td>SECRET TECHNOLOGIES INDIA VMS GROUP</td>\n",
       "      <td>0-4 Yrs</td>\n",
       "      <td>Pune, Bangalore/Bengaluru(Shivaji Nagar), Mumb...</td>\n",
       "    </tr>\n",
       "    <tr>\n",
       "      <th>5</th>\n",
       "      <td>Staff Business Data Analyst - FDP</td>\n",
       "      <td>Intuit Inc.</td>\n",
       "      <td>5-7 Yrs</td>\n",
       "      <td>Bangalore/Bengaluru</td>\n",
       "    </tr>\n",
       "    <tr>\n",
       "      <th>6</th>\n",
       "      <td>Data Analyst - IIM/ISB/MDI/FMS/SP Jain</td>\n",
       "      <td>K12 Techno Services Pvt Ltd</td>\n",
       "      <td>4-9 Yrs</td>\n",
       "      <td>Bangalore/Bengaluru</td>\n",
       "    </tr>\n",
       "    <tr>\n",
       "      <th>7</th>\n",
       "      <td>Senior Data Analyst</td>\n",
       "      <td>Flipkart</td>\n",
       "      <td>3-6 Yrs</td>\n",
       "      <td>Bangalore/Bengaluru</td>\n",
       "    </tr>\n",
       "    <tr>\n",
       "      <th>8</th>\n",
       "      <td>Senior Data Analyst</td>\n",
       "      <td>Flipkart</td>\n",
       "      <td>3-7 Yrs</td>\n",
       "      <td>Bangalore/Bengaluru</td>\n",
       "    </tr>\n",
       "    <tr>\n",
       "      <th>9</th>\n",
       "      <td>Senior Data Analyst (Digital Services Analytics)</td>\n",
       "      <td>Dell</td>\n",
       "      <td>1-6 Yrs</td>\n",
       "      <td>Bangalore/Bengaluru</td>\n",
       "    </tr>\n",
       "  </tbody>\n",
       "</table>\n",
       "</div>"
      ],
      "text/plain": [
       "                                           Job Title  \\\n",
       "0                          Flight data analyst (372)   \n",
       "1                                Senior Data Analyst   \n",
       "2                                Senior Data Analyst   \n",
       "3                           Looking For Data Analyst   \n",
       "4  software developer & Testing / Business Analys...   \n",
       "5                  Staff Business Data Analyst - FDP   \n",
       "6             Data Analyst - IIM/ISB/MDI/FMS/SP Jain   \n",
       "7                                Senior Data Analyst   \n",
       "8                                Senior Data Analyst   \n",
       "9   Senior Data Analyst (Digital Services Analytics)   \n",
       "\n",
       "                               Company Experience  \\\n",
       "0         NEST DIGITAL PRIVATE LIMITED    0-1 Yrs   \n",
       "1                                Capco    4-8 Yrs   \n",
       "2                Mobile Premier League    3-6 Yrs   \n",
       "3                            Trellance    0-2 Yrs   \n",
       "4  SECRET TECHNOLOGIES INDIA VMS GROUP    0-4 Yrs   \n",
       "5                          Intuit Inc.    5-7 Yrs   \n",
       "6          K12 Techno Services Pvt Ltd    4-9 Yrs   \n",
       "7                             Flipkart    3-6 Yrs   \n",
       "8                             Flipkart    3-7 Yrs   \n",
       "9                                 Dell    1-6 Yrs   \n",
       "\n",
       "                                            Location  \n",
       "0                                Bangalore/Bengaluru  \n",
       "1                                Bangalore/Bengaluru  \n",
       "2                                Bangalore/Bengaluru  \n",
       "3                     Ahmedabad, Bangalore/Bengaluru  \n",
       "4  Pune, Bangalore/Bengaluru(Shivaji Nagar), Mumb...  \n",
       "5                                Bangalore/Bengaluru  \n",
       "6                                Bangalore/Bengaluru  \n",
       "7                                Bangalore/Bengaluru  \n",
       "8                                Bangalore/Bengaluru  \n",
       "9                                Bangalore/Bengaluru  "
      ]
     },
     "execution_count": 19,
     "metadata": {},
     "output_type": "execute_result"
    }
   ],
   "source": [
    "jobs= pd.DataFrame()\n",
    "jobs[\"Job Title\"]= job_titles1\n",
    "jobs[\"Company\"]= company_names1\n",
    "jobs[\"Experience\"]= experience1\n",
    "jobs[\"Location\"]= location1\n",
    "jobs"
   ]
  },
  {
   "cell_type": "markdown",
   "id": "245945bb",
   "metadata": {},
   "source": [
    "# 2. \"DATA SCIENTIST\""
   ]
  },
  {
   "cell_type": "code",
   "execution_count": 20,
   "id": "8122b72c",
   "metadata": {},
   "outputs": [],
   "source": [
    "import selenium\n",
    "from selenium import webdriver\n",
    "import pandas as pd\n",
    "import warnings\n",
    "warnings.filterwarnings(\"ignore\")"
   ]
  },
  {
   "cell_type": "code",
   "execution_count": 21,
   "id": "5e287219",
   "metadata": {},
   "outputs": [
    {
     "data": {
      "text/plain": [
       "<selenium.webdriver.chrome.webdriver.WebDriver (session=\"6d67edc06aa873616a669a4cdd531a78\")>"
      ]
     },
     "execution_count": 21,
     "metadata": {},
     "output_type": "execute_result"
    }
   ],
   "source": [
    "driver= webdriver.Chrome(r'C:/Users/bindu/Downloads/chromedriver_win32/chromedriver.exe')\n",
    "driver"
   ]
  },
  {
   "cell_type": "code",
   "execution_count": 22,
   "id": "a443bf3b",
   "metadata": {},
   "outputs": [],
   "source": [
    "url='https://www.naukri.com/'\n",
    "driver.get(url)"
   ]
  },
  {
   "cell_type": "code",
   "execution_count": 23,
   "id": "a6cebec7",
   "metadata": {},
   "outputs": [
    {
     "data": {
      "text/plain": [
       "<selenium.webdriver.remote.webelement.WebElement (session=\"6d67edc06aa873616a669a4cdd531a78\", element=\"0a5f9aec-997b-4d07-956f-2d6a0e4740b4\")>"
      ]
     },
     "execution_count": 23,
     "metadata": {},
     "output_type": "execute_result"
    }
   ],
   "source": [
    "search_job= driver.find_element_by_class_name(\"suggestor-input\")\n",
    "search_job"
   ]
  },
  {
   "cell_type": "code",
   "execution_count": 24,
   "id": "c476374f",
   "metadata": {},
   "outputs": [],
   "source": [
    "search_job.send_keys(\"Data Scientist\")"
   ]
  },
  {
   "cell_type": "code",
   "execution_count": 25,
   "id": "d987229c",
   "metadata": {},
   "outputs": [
    {
     "data": {
      "text/plain": [
       "<selenium.webdriver.remote.webelement.WebElement (session=\"6d67edc06aa873616a669a4cdd531a78\", element=\"f0134905-5fb7-43f6-84a5-9e475dbfb4d9\")>"
      ]
     },
     "execution_count": 25,
     "metadata": {},
     "output_type": "execute_result"
    }
   ],
   "source": [
    "search_locn= driver.find_element_by_xpath('/html/body/div/div[2]/div[3]/div/div/div[3]/div/div/div/input')\n",
    "search_locn"
   ]
  },
  {
   "cell_type": "code",
   "execution_count": 26,
   "id": "08a2e6d5",
   "metadata": {},
   "outputs": [],
   "source": [
    "search_locn.send_keys(\"Banglore\")"
   ]
  },
  {
   "cell_type": "code",
   "execution_count": 27,
   "id": "633a3ef0",
   "metadata": {},
   "outputs": [
    {
     "data": {
      "text/plain": [
       "<selenium.webdriver.remote.webelement.WebElement (session=\"6d67edc06aa873616a669a4cdd531a78\", element=\"c1a84b02-b118-492d-a574-47a5ef495890\")>"
      ]
     },
     "execution_count": 27,
     "metadata": {},
     "output_type": "execute_result"
    }
   ],
   "source": [
    "search_btn= driver.find_element_by_xpath('/html/body/div/div[2]/div[3]/div/div/div[6]')\n",
    "search_btn"
   ]
  },
  {
   "cell_type": "code",
   "execution_count": 28,
   "id": "2692657c",
   "metadata": {},
   "outputs": [],
   "source": [
    "search_btn.click()"
   ]
  },
  {
   "cell_type": "code",
   "execution_count": 29,
   "id": "e49e6f46",
   "metadata": {},
   "outputs": [
    {
     "data": {
      "text/plain": [
       "[<selenium.webdriver.remote.webelement.WebElement (session=\"6d67edc06aa873616a669a4cdd531a78\", element=\"ebcdab6e-a5da-4d13-a5db-40a09f267cf5\")>,\n",
       " <selenium.webdriver.remote.webelement.WebElement (session=\"6d67edc06aa873616a669a4cdd531a78\", element=\"79ec58e9-043c-42cd-8203-a28d673a5985\")>,\n",
       " <selenium.webdriver.remote.webelement.WebElement (session=\"6d67edc06aa873616a669a4cdd531a78\", element=\"03be2535-66b8-4bb3-bcc3-18270d823148\")>,\n",
       " <selenium.webdriver.remote.webelement.WebElement (session=\"6d67edc06aa873616a669a4cdd531a78\", element=\"cd3bc6e8-3159-4cea-acdc-45bd44a99dcc\")>,\n",
       " <selenium.webdriver.remote.webelement.WebElement (session=\"6d67edc06aa873616a669a4cdd531a78\", element=\"da98affd-62f0-4d9f-9abf-21a3598de354\")>,\n",
       " <selenium.webdriver.remote.webelement.WebElement (session=\"6d67edc06aa873616a669a4cdd531a78\", element=\"0622ee85-6232-46da-9c1b-27a6807fd68e\")>,\n",
       " <selenium.webdriver.remote.webelement.WebElement (session=\"6d67edc06aa873616a669a4cdd531a78\", element=\"a7f5de47-8ade-4509-af91-d3c21de62d45\")>,\n",
       " <selenium.webdriver.remote.webelement.WebElement (session=\"6d67edc06aa873616a669a4cdd531a78\", element=\"5846069c-3aaf-4778-beff-115af5b819c3\")>,\n",
       " <selenium.webdriver.remote.webelement.WebElement (session=\"6d67edc06aa873616a669a4cdd531a78\", element=\"25cabfe0-ef94-40ad-9b38-a89f17aa9823\")>,\n",
       " <selenium.webdriver.remote.webelement.WebElement (session=\"6d67edc06aa873616a669a4cdd531a78\", element=\"53109f24-a21f-44dd-9d31-019b99d3e9db\")>]"
      ]
     },
     "execution_count": 29,
     "metadata": {},
     "output_type": "execute_result"
    }
   ],
   "source": [
    "title_tags= driver.find_elements_by_xpath('//a[@class=\"title fw500 ellipsis\"]')\n",
    "len(title_tags)\n",
    "title_tags[0:10]"
   ]
  },
  {
   "cell_type": "code",
   "execution_count": 30,
   "id": "201514f0",
   "metadata": {},
   "outputs": [
    {
     "data": {
      "text/plain": [
       "['Data Scientist / Analyst',\n",
       " 'Senior Data Scientist',\n",
       " 'Data Scientist II- Merchandise & Discovery',\n",
       " 'Forecasting Analyst/ Data Scientist (US Client)',\n",
       " 'Consultant - Junior Data Scientist',\n",
       " 'Data Scientist',\n",
       " 'Data Scientist',\n",
       " 'Principal Data Scientist',\n",
       " 'Excellent Opportunity For Freshers For AI/ML, Data Scientist, BI, QA',\n",
       " 'Junior Data Scientist']"
      ]
     },
     "execution_count": 30,
     "metadata": {},
     "output_type": "execute_result"
    }
   ],
   "source": [
    "job_titles = []\n",
    "\n",
    "for i in title_tags:\n",
    "    job_titles.append(i.text)\n",
    "len(job_titles)\n",
    "job_titles[0:10]\n",
    "\n",
    "job_titles1= []\n",
    "for i in range(0, 10):\n",
    "    job_titles1.append(job_titles[i])\n",
    "    \n",
    "job_titles1"
   ]
  },
  {
   "cell_type": "code",
   "execution_count": 31,
   "id": "9e190cfb",
   "metadata": {},
   "outputs": [
    {
     "data": {
      "text/plain": [
       "20"
      ]
     },
     "execution_count": 31,
     "metadata": {},
     "output_type": "execute_result"
    }
   ],
   "source": [
    "location_tags= driver.find_elements_by_xpath('//li[@class=\"fleft grey-text br2 placeHolderLi location\"]')\n",
    "len(location_tags)"
   ]
  },
  {
   "cell_type": "code",
   "execution_count": 32,
   "id": "69b772ed",
   "metadata": {},
   "outputs": [
    {
     "data": {
      "text/plain": [
       "['Bangalore/Bengaluru',\n",
       " 'Bangalore/Bengaluru',\n",
       " 'Bangalore/Bengaluru',\n",
       " 'Gurgaon/Gurugram, Bangalore/Bengaluru\\n(WFH during Covid)',\n",
       " 'Navi Mumbai, New Delhi, Bangalore/Bengaluru',\n",
       " 'Chennai, Bangalore/Bengaluru\\n(WFH during Covid)',\n",
       " 'Bangalore/Bengaluru',\n",
       " 'Chennai, Bangalore/Bengaluru\\n(WFH during Covid)',\n",
       " 'Noida, Kolkata, Hyderabad/Secunderabad, Pune, Chennai, Bangalore/Bengaluru, Delhi / NCR, Mumbai (All Areas)\\n(WFH during Covid)',\n",
       " 'Bangalore/Bengaluru']"
      ]
     },
     "execution_count": 32,
     "metadata": {},
     "output_type": "execute_result"
    }
   ],
   "source": [
    "job_location= []\n",
    "for i in location_tags:\n",
    "    job_location.append(i.text)\n",
    "job_location[0:10]\n",
    "\n",
    "job_location1= []\n",
    "for i in range(0, 10):\n",
    "    job_location1.append(job_location[i])\n",
    "    \n",
    "job_location1"
   ]
  },
  {
   "cell_type": "code",
   "execution_count": 33,
   "id": "e65671ef",
   "metadata": {},
   "outputs": [
    {
     "data": {
      "text/plain": [
       "[<selenium.webdriver.remote.webelement.WebElement (session=\"6d67edc06aa873616a669a4cdd531a78\", element=\"84fd881e-64f8-4631-8e5d-9c4a72d5f37f\")>,\n",
       " <selenium.webdriver.remote.webelement.WebElement (session=\"6d67edc06aa873616a669a4cdd531a78\", element=\"4ee83fdc-7a30-48fa-854a-56a34d754fc2\")>,\n",
       " <selenium.webdriver.remote.webelement.WebElement (session=\"6d67edc06aa873616a669a4cdd531a78\", element=\"2a151861-9a8b-4b3c-81ae-7687acda897b\")>,\n",
       " <selenium.webdriver.remote.webelement.WebElement (session=\"6d67edc06aa873616a669a4cdd531a78\", element=\"ef8dc96b-e9bb-4574-8e07-c213c42a11ac\")>,\n",
       " <selenium.webdriver.remote.webelement.WebElement (session=\"6d67edc06aa873616a669a4cdd531a78\", element=\"d64e7941-3975-427e-a614-672072c64acf\")>,\n",
       " <selenium.webdriver.remote.webelement.WebElement (session=\"6d67edc06aa873616a669a4cdd531a78\", element=\"f63b919c-7da7-4285-8062-10bf32351852\")>,\n",
       " <selenium.webdriver.remote.webelement.WebElement (session=\"6d67edc06aa873616a669a4cdd531a78\", element=\"4d3557eb-0c6b-49f4-9ca5-a5c83ce533e9\")>,\n",
       " <selenium.webdriver.remote.webelement.WebElement (session=\"6d67edc06aa873616a669a4cdd531a78\", element=\"c276b051-49a8-4a08-8510-ab0cb3d84d98\")>,\n",
       " <selenium.webdriver.remote.webelement.WebElement (session=\"6d67edc06aa873616a669a4cdd531a78\", element=\"7f6a8075-78e4-45b8-8d07-a6d1524a65f9\")>,\n",
       " <selenium.webdriver.remote.webelement.WebElement (session=\"6d67edc06aa873616a669a4cdd531a78\", element=\"e8f68923-f0fc-4601-a74d-13509186d91c\")>]"
      ]
     },
     "execution_count": 33,
     "metadata": {},
     "output_type": "execute_result"
    }
   ],
   "source": [
    "company_tags= driver.find_elements_by_xpath('//a[@class=\"subTitle ellipsis fleft\"]')\n",
    "company_tags[0:10]"
   ]
  },
  {
   "cell_type": "code",
   "execution_count": 34,
   "id": "9ebf5875",
   "metadata": {},
   "outputs": [
    {
     "data": {
      "text/plain": [
       "['open data fabric',\n",
       " 'newscorp',\n",
       " 'Swiggy',\n",
       " 'Concentrix',\n",
       " 'Flexing It',\n",
       " 'VANTAGEIQ TECHNOLOGIES (OPC) PRIVATE LIMITED',\n",
       " 'newscorp',\n",
       " 'VANTAGEIQ TECHNOLOGIES (OPC) PRIVATE LIMITED',\n",
       " 'NTT Data',\n",
       " 'Titan']"
      ]
     },
     "execution_count": 34,
     "metadata": {},
     "output_type": "execute_result"
    }
   ],
   "source": [
    "company_names = []\n",
    "for i in company_tags:\n",
    "    company_names.append(i.text)\n",
    "company_names[0:10]\n",
    "\n",
    "company_names1= []\n",
    "for i in range(0, 10):\n",
    "    company_names1.append(company_names[i])\n",
    "    \n",
    "company_names1"
   ]
  },
  {
   "cell_type": "code",
   "execution_count": 35,
   "id": "004cc368",
   "metadata": {},
   "outputs": [
    {
     "data": {
      "text/plain": [
       "(10, 10, 10)"
      ]
     },
     "execution_count": 35,
     "metadata": {},
     "output_type": "execute_result"
    }
   ],
   "source": [
    "len(job_titles1),len(company_names1),len(job_location1)"
   ]
  },
  {
   "cell_type": "code",
   "execution_count": 36,
   "id": "2e065908",
   "metadata": {},
   "outputs": [
    {
     "data": {
      "text/html": [
       "<div>\n",
       "<style scoped>\n",
       "    .dataframe tbody tr th:only-of-type {\n",
       "        vertical-align: middle;\n",
       "    }\n",
       "\n",
       "    .dataframe tbody tr th {\n",
       "        vertical-align: top;\n",
       "    }\n",
       "\n",
       "    .dataframe thead th {\n",
       "        text-align: right;\n",
       "    }\n",
       "</style>\n",
       "<table border=\"1\" class=\"dataframe\">\n",
       "  <thead>\n",
       "    <tr style=\"text-align: right;\">\n",
       "      <th></th>\n",
       "      <th>Job Title</th>\n",
       "      <th>Company</th>\n",
       "      <th>Job Location</th>\n",
       "    </tr>\n",
       "  </thead>\n",
       "  <tbody>\n",
       "    <tr>\n",
       "      <th>0</th>\n",
       "      <td>Data Scientist / Analyst</td>\n",
       "      <td>open data fabric</td>\n",
       "      <td>Bangalore/Bengaluru</td>\n",
       "    </tr>\n",
       "    <tr>\n",
       "      <th>1</th>\n",
       "      <td>Senior Data Scientist</td>\n",
       "      <td>newscorp</td>\n",
       "      <td>Bangalore/Bengaluru</td>\n",
       "    </tr>\n",
       "    <tr>\n",
       "      <th>2</th>\n",
       "      <td>Data Scientist II- Merchandise &amp; Discovery</td>\n",
       "      <td>Swiggy</td>\n",
       "      <td>Bangalore/Bengaluru</td>\n",
       "    </tr>\n",
       "    <tr>\n",
       "      <th>3</th>\n",
       "      <td>Forecasting Analyst/ Data Scientist (US Client)</td>\n",
       "      <td>Concentrix</td>\n",
       "      <td>Gurgaon/Gurugram, Bangalore/Bengaluru\\n(WFH du...</td>\n",
       "    </tr>\n",
       "    <tr>\n",
       "      <th>4</th>\n",
       "      <td>Consultant - Junior Data Scientist</td>\n",
       "      <td>Flexing It</td>\n",
       "      <td>Navi Mumbai, New Delhi, Bangalore/Bengaluru</td>\n",
       "    </tr>\n",
       "    <tr>\n",
       "      <th>5</th>\n",
       "      <td>Data Scientist</td>\n",
       "      <td>VANTAGEIQ TECHNOLOGIES (OPC) PRIVATE LIMITED</td>\n",
       "      <td>Chennai, Bangalore/Bengaluru\\n(WFH during Covid)</td>\n",
       "    </tr>\n",
       "    <tr>\n",
       "      <th>6</th>\n",
       "      <td>Data Scientist</td>\n",
       "      <td>newscorp</td>\n",
       "      <td>Bangalore/Bengaluru</td>\n",
       "    </tr>\n",
       "    <tr>\n",
       "      <th>7</th>\n",
       "      <td>Principal Data Scientist</td>\n",
       "      <td>VANTAGEIQ TECHNOLOGIES (OPC) PRIVATE LIMITED</td>\n",
       "      <td>Chennai, Bangalore/Bengaluru\\n(WFH during Covid)</td>\n",
       "    </tr>\n",
       "    <tr>\n",
       "      <th>8</th>\n",
       "      <td>Excellent Opportunity For Freshers For AI/ML, ...</td>\n",
       "      <td>NTT Data</td>\n",
       "      <td>Noida, Kolkata, Hyderabad/Secunderabad, Pune, ...</td>\n",
       "    </tr>\n",
       "    <tr>\n",
       "      <th>9</th>\n",
       "      <td>Junior Data Scientist</td>\n",
       "      <td>Titan</td>\n",
       "      <td>Bangalore/Bengaluru</td>\n",
       "    </tr>\n",
       "  </tbody>\n",
       "</table>\n",
       "</div>"
      ],
      "text/plain": [
       "                                           Job Title  \\\n",
       "0                           Data Scientist / Analyst   \n",
       "1                              Senior Data Scientist   \n",
       "2         Data Scientist II- Merchandise & Discovery   \n",
       "3    Forecasting Analyst/ Data Scientist (US Client)   \n",
       "4                 Consultant - Junior Data Scientist   \n",
       "5                                     Data Scientist   \n",
       "6                                     Data Scientist   \n",
       "7                           Principal Data Scientist   \n",
       "8  Excellent Opportunity For Freshers For AI/ML, ...   \n",
       "9                              Junior Data Scientist   \n",
       "\n",
       "                                        Company  \\\n",
       "0                              open data fabric   \n",
       "1                                      newscorp   \n",
       "2                                        Swiggy   \n",
       "3                                    Concentrix   \n",
       "4                                    Flexing It   \n",
       "5  VANTAGEIQ TECHNOLOGIES (OPC) PRIVATE LIMITED   \n",
       "6                                      newscorp   \n",
       "7  VANTAGEIQ TECHNOLOGIES (OPC) PRIVATE LIMITED   \n",
       "8                                      NTT Data   \n",
       "9                                         Titan   \n",
       "\n",
       "                                        Job Location  \n",
       "0                                Bangalore/Bengaluru  \n",
       "1                                Bangalore/Bengaluru  \n",
       "2                                Bangalore/Bengaluru  \n",
       "3  Gurgaon/Gurugram, Bangalore/Bengaluru\\n(WFH du...  \n",
       "4        Navi Mumbai, New Delhi, Bangalore/Bengaluru  \n",
       "5   Chennai, Bangalore/Bengaluru\\n(WFH during Covid)  \n",
       "6                                Bangalore/Bengaluru  \n",
       "7   Chennai, Bangalore/Bengaluru\\n(WFH during Covid)  \n",
       "8  Noida, Kolkata, Hyderabad/Secunderabad, Pune, ...  \n",
       "9                                Bangalore/Bengaluru  "
      ]
     },
     "execution_count": 36,
     "metadata": {},
     "output_type": "execute_result"
    }
   ],
   "source": [
    "jobs= pd.DataFrame()\n",
    "jobs[\"Job Title\"]= job_titles1\n",
    "jobs[\"Company\"]= company_names1\n",
    "jobs[\" Job Location\"]= job_location1\n",
    "jobs"
   ]
  },
  {
   "cell_type": "markdown",
   "id": "b65aaec3",
   "metadata": {},
   "source": [
    "# 3.\"DATA SCIENTIST\" vth salary filter"
   ]
  },
  {
   "cell_type": "code",
   "execution_count": 37,
   "id": "7a5f9bac",
   "metadata": {},
   "outputs": [],
   "source": [
    "import selenium\n",
    "from selenium import webdriver\n",
    "import pandas as pd\n",
    "import warnings\n",
    "warnings.filterwarnings(\"ignore\")"
   ]
  },
  {
   "cell_type": "code",
   "execution_count": 38,
   "id": "cf3735c4",
   "metadata": {},
   "outputs": [
    {
     "data": {
      "text/plain": [
       "<selenium.webdriver.chrome.webdriver.WebDriver (session=\"b20a05e339cdd3bf65323ef51dcd21f5\")>"
      ]
     },
     "execution_count": 38,
     "metadata": {},
     "output_type": "execute_result"
    }
   ],
   "source": [
    "driver= webdriver.Chrome(r'C:/Users/bindu/Downloads/chromedriver_win32/chromedriver.exe')\n",
    "driver"
   ]
  },
  {
   "cell_type": "code",
   "execution_count": 39,
   "id": "e6b1f076",
   "metadata": {},
   "outputs": [],
   "source": [
    "url='https://www.naukri.com/'\n",
    "driver.get(url)"
   ]
  },
  {
   "cell_type": "code",
   "execution_count": 40,
   "id": "628320aa",
   "metadata": {},
   "outputs": [
    {
     "data": {
      "text/plain": [
       "<selenium.webdriver.remote.webelement.WebElement (session=\"b20a05e339cdd3bf65323ef51dcd21f5\", element=\"a6fb4201-ec79-4ae0-aff9-8aac9670356e\")>"
      ]
     },
     "execution_count": 40,
     "metadata": {},
     "output_type": "execute_result"
    }
   ],
   "source": [
    "search_job= driver.find_element_by_class_name(\"suggestor-input\")\n",
    "search_job"
   ]
  },
  {
   "cell_type": "code",
   "execution_count": 41,
   "id": "90c224f0",
   "metadata": {},
   "outputs": [],
   "source": [
    "search_job.send_keys(\"Data Scientist\")"
   ]
  },
  {
   "cell_type": "code",
   "execution_count": 42,
   "id": "8fee5174",
   "metadata": {},
   "outputs": [
    {
     "data": {
      "text/plain": [
       "<selenium.webdriver.remote.webelement.WebElement (session=\"b20a05e339cdd3bf65323ef51dcd21f5\", element=\"d25d31df-ff7d-4c15-a843-7967c0aa6017\")>"
      ]
     },
     "execution_count": 42,
     "metadata": {},
     "output_type": "execute_result"
    }
   ],
   "source": [
    "search_locn= driver.find_element_by_xpath('/html/body/div/div[2]/div[3]/div/div/div[3]/div/div/div/input')\n",
    "search_locn"
   ]
  },
  {
   "cell_type": "code",
   "execution_count": 43,
   "id": "03b046fa",
   "metadata": {},
   "outputs": [],
   "source": [
    "search_locn.send_keys(\"Delhi/NCR\")"
   ]
  },
  {
   "cell_type": "code",
   "execution_count": 44,
   "id": "296810e1",
   "metadata": {},
   "outputs": [
    {
     "data": {
      "text/plain": [
       "<selenium.webdriver.remote.webelement.WebElement (session=\"b20a05e339cdd3bf65323ef51dcd21f5\", element=\"55f35a66-789e-42e4-bbab-a3f8a5638ea4\")>"
      ]
     },
     "execution_count": 44,
     "metadata": {},
     "output_type": "execute_result"
    }
   ],
   "source": [
    "search_btn= driver.find_element_by_xpath('/html/body/div/div[2]/div[3]/div/div/div[6]')\n",
    "search_btn"
   ]
  },
  {
   "cell_type": "code",
   "execution_count": 45,
   "id": "f4ecc672",
   "metadata": {},
   "outputs": [],
   "source": [
    "search_btn.click()"
   ]
  },
  {
   "cell_type": "code",
   "execution_count": 46,
   "id": "2f3167af",
   "metadata": {},
   "outputs": [],
   "source": [
    "salary_check= driver.find_element_by_xpath('/html/body/div[1]/div[3]/div[2]/section[1]/div[2]/div[4]/div[2]/div[2]/label/i')"
   ]
  },
  {
   "cell_type": "code",
   "execution_count": 47,
   "id": "b6b058bf",
   "metadata": {},
   "outputs": [],
   "source": [
    "salary_check.click()"
   ]
  },
  {
   "cell_type": "code",
   "execution_count": 48,
   "id": "2fee65c3",
   "metadata": {},
   "outputs": [
    {
     "data": {
      "text/plain": [
       "[<selenium.webdriver.remote.webelement.WebElement (session=\"b20a05e339cdd3bf65323ef51dcd21f5\", element=\"5640d70a-4d27-46cf-87f5-968d5a76413e\")>,\n",
       " <selenium.webdriver.remote.webelement.WebElement (session=\"b20a05e339cdd3bf65323ef51dcd21f5\", element=\"a4cb7d7b-5bca-47e5-b006-47a42b748685\")>,\n",
       " <selenium.webdriver.remote.webelement.WebElement (session=\"b20a05e339cdd3bf65323ef51dcd21f5\", element=\"d4a268b4-a8ad-4d3a-9d7e-6219d21ec892\")>,\n",
       " <selenium.webdriver.remote.webelement.WebElement (session=\"b20a05e339cdd3bf65323ef51dcd21f5\", element=\"2bea8a76-93d6-405d-907b-2a51f162636c\")>,\n",
       " <selenium.webdriver.remote.webelement.WebElement (session=\"b20a05e339cdd3bf65323ef51dcd21f5\", element=\"c7223e81-fe65-4924-a688-de59a485de31\")>,\n",
       " <selenium.webdriver.remote.webelement.WebElement (session=\"b20a05e339cdd3bf65323ef51dcd21f5\", element=\"99ad03eb-a000-43d1-82db-f7531557bd66\")>,\n",
       " <selenium.webdriver.remote.webelement.WebElement (session=\"b20a05e339cdd3bf65323ef51dcd21f5\", element=\"6a42ee53-24d0-418e-bb6b-95c27bbfd00c\")>,\n",
       " <selenium.webdriver.remote.webelement.WebElement (session=\"b20a05e339cdd3bf65323ef51dcd21f5\", element=\"b27171e1-1491-48f9-b53a-92059b9f1979\")>,\n",
       " <selenium.webdriver.remote.webelement.WebElement (session=\"b20a05e339cdd3bf65323ef51dcd21f5\", element=\"23a9201f-8765-4b65-8f07-bc60db6f80c7\")>,\n",
       " <selenium.webdriver.remote.webelement.WebElement (session=\"b20a05e339cdd3bf65323ef51dcd21f5\", element=\"3e5fd012-d866-4277-8d78-e14480600f5b\")>]"
      ]
     },
     "execution_count": 48,
     "metadata": {},
     "output_type": "execute_result"
    }
   ],
   "source": [
    "title_tags= driver.find_elements_by_xpath('//a[@class=\"title fw500 ellipsis\"]')\n",
    "len(title_tags)\n",
    "title_tags[0:10]"
   ]
  },
  {
   "cell_type": "code",
   "execution_count": 49,
   "id": "4aac4563",
   "metadata": {},
   "outputs": [
    {
     "data": {
      "text/plain": [
       "['Excellent Opportunity For Freshers For AI/ML, Data Scientist, BI, QA',\n",
       " 'Junior Data Analyst/ Scientist- Fresher Position',\n",
       " 'Only Fresher / Python Data Scientist / Trainee / Analytics - MNC Jobs',\n",
       " 'Data Scientist',\n",
       " 'Data Scientist - MIND Infotech',\n",
       " 'Data Scientist - MIND Infotech',\n",
       " 'Hiring For Data Scientist',\n",
       " 'Lead Data Scientist',\n",
       " 'Urgent Requirement || Data Scientist || Noida',\n",
       " 'Senior Data Scientist']"
      ]
     },
     "execution_count": 49,
     "metadata": {},
     "output_type": "execute_result"
    }
   ],
   "source": [
    "job_titles = []\n",
    "\n",
    "for i in title_tags:\n",
    "    job_titles.append(i.text)\n",
    "\n",
    "job_titles1= []\n",
    "for i in range(0, 10):\n",
    "    job_titles1.append(job_titles[i])\n",
    "    \n",
    "job_titles1"
   ]
  },
  {
   "cell_type": "code",
   "execution_count": 50,
   "id": "474ff45a",
   "metadata": {},
   "outputs": [
    {
     "data": {
      "text/plain": [
       "20"
      ]
     },
     "execution_count": 50,
     "metadata": {},
     "output_type": "execute_result"
    }
   ],
   "source": [
    "location_tags= driver.find_elements_by_xpath('//li[@class=\"fleft grey-text br2 placeHolderLi location\"]')\n",
    "len(location_tags)"
   ]
  },
  {
   "cell_type": "code",
   "execution_count": 51,
   "id": "f4d558f5",
   "metadata": {},
   "outputs": [
    {
     "data": {
      "text/plain": [
       "['Noida, Kolkata, Hyderabad/Secunderabad, Pune, Chennai, Bangalore/Bengaluru, Delhi / NCR, Mumbai (All Areas)\\n(WFH during Covid)',\n",
       " 'Kolkata, Hyderabad/Secunderabad, Pune, Ahmedabad, Chennai, Bangalore/Bengaluru, Delhi / NCR, Mumbai (All Areas)\\n(WFH during Covid)',\n",
       " 'Noida, New Delhi, Gurgaon/Gurugram',\n",
       " 'Noida, Gurgaon/Gurugram',\n",
       " 'Noida',\n",
       " 'Noida',\n",
       " 'Noida, Pune, Mumbai (All Areas)',\n",
       " 'Delhi / NCR\\n(WFH during Covid)',\n",
       " 'Noida, Delhi / NCR',\n",
       " 'Delhi']"
      ]
     },
     "execution_count": 51,
     "metadata": {},
     "output_type": "execute_result"
    }
   ],
   "source": [
    "job_location= []\n",
    "for i in location_tags:\n",
    "    job_location.append(i.text)\n",
    "\n",
    "job_location1= []\n",
    "for i in range(0, 10):\n",
    "    job_location1.append(job_location[i])\n",
    "    \n",
    "job_location1"
   ]
  },
  {
   "cell_type": "code",
   "execution_count": 52,
   "id": "8fa7c12e",
   "metadata": {},
   "outputs": [
    {
     "data": {
      "text/plain": [
       "[<selenium.webdriver.remote.webelement.WebElement (session=\"b20a05e339cdd3bf65323ef51dcd21f5\", element=\"d001d193-f07f-4917-bf90-eff6ac9aa415\")>,\n",
       " <selenium.webdriver.remote.webelement.WebElement (session=\"b20a05e339cdd3bf65323ef51dcd21f5\", element=\"85a32d1c-ba40-417f-908e-433e6e7d3498\")>,\n",
       " <selenium.webdriver.remote.webelement.WebElement (session=\"b20a05e339cdd3bf65323ef51dcd21f5\", element=\"8a1d7683-a2ca-4acf-aaaa-df2509badab6\")>,\n",
       " <selenium.webdriver.remote.webelement.WebElement (session=\"b20a05e339cdd3bf65323ef51dcd21f5\", element=\"b104bbf7-fabd-4f23-a32c-60e249305c40\")>,\n",
       " <selenium.webdriver.remote.webelement.WebElement (session=\"b20a05e339cdd3bf65323ef51dcd21f5\", element=\"b72ee5a8-1d99-44cc-a910-6eaa873e19d5\")>,\n",
       " <selenium.webdriver.remote.webelement.WebElement (session=\"b20a05e339cdd3bf65323ef51dcd21f5\", element=\"012aa4c7-c3f1-47b6-92c7-be6e0ecd11c5\")>,\n",
       " <selenium.webdriver.remote.webelement.WebElement (session=\"b20a05e339cdd3bf65323ef51dcd21f5\", element=\"be35972c-168e-4496-8d9b-cc2fb1212c6a\")>,\n",
       " <selenium.webdriver.remote.webelement.WebElement (session=\"b20a05e339cdd3bf65323ef51dcd21f5\", element=\"f57734cf-14cf-4824-ac05-af36056a594b\")>,\n",
       " <selenium.webdriver.remote.webelement.WebElement (session=\"b20a05e339cdd3bf65323ef51dcd21f5\", element=\"0d4026bd-a360-48e4-8909-08fef727c053\")>,\n",
       " <selenium.webdriver.remote.webelement.WebElement (session=\"b20a05e339cdd3bf65323ef51dcd21f5\", element=\"891cdf05-7ad6-42e4-bbd5-879e931f7546\")>]"
      ]
     },
     "execution_count": 52,
     "metadata": {},
     "output_type": "execute_result"
    }
   ],
   "source": [
    "company_tags= driver.find_elements_by_xpath('//a[@class=\"subTitle ellipsis fleft\"]')\n",
    "company_tags[0:10]"
   ]
  },
  {
   "cell_type": "code",
   "execution_count": 53,
   "id": "76c19cc8",
   "metadata": {},
   "outputs": [
    {
     "data": {
      "text/plain": [
       "['NTT Data',\n",
       " 'Sejal Consulting Hub',\n",
       " 'GABA Consultancy services',\n",
       " 'Optum',\n",
       " 'MOTHERSONSUMI INFOTECH & DESIGNS LIMITED',\n",
       " 'MOTHERSONSUMI INFOTECH & DESIGNS LIMITED',\n",
       " 'Lumiq.ai',\n",
       " 'Indihire HR Consultants Private Limited',\n",
       " 'HCL',\n",
       " 'iNICU']"
      ]
     },
     "execution_count": 53,
     "metadata": {},
     "output_type": "execute_result"
    }
   ],
   "source": [
    "company_names = []\n",
    "for i in company_tags:\n",
    "    company_names.append(i.text)\n",
    "\n",
    "company_names1= []\n",
    "for i in range(0, 10):\n",
    "    company_names1.append(company_names[i])\n",
    "    \n",
    "company_names1"
   ]
  },
  {
   "cell_type": "code",
   "execution_count": 54,
   "id": "66e27955",
   "metadata": {},
   "outputs": [
    {
     "data": {
      "text/plain": [
       "20"
      ]
     },
     "execution_count": 54,
     "metadata": {},
     "output_type": "execute_result"
    }
   ],
   "source": [
    "exp_tags=driver.find_elements_by_xpath('//li[@class=\"fleft grey-text br2 placeHolderLi experience\"]')\n",
    "len(exp_tags)"
   ]
  },
  {
   "cell_type": "code",
   "execution_count": 55,
   "id": "7d10318e",
   "metadata": {},
   "outputs": [
    {
     "data": {
      "text/plain": [
       "['0-0 Yrs',\n",
       " '0-3 Yrs',\n",
       " '0-0 Yrs',\n",
       " '2-6 Yrs',\n",
       " '4-8 Yrs',\n",
       " '4-8 Yrs',\n",
       " '2-7 Yrs',\n",
       " '2-4 Yrs',\n",
       " '3-8 Yrs',\n",
       " '1-5 Yrs']"
      ]
     },
     "execution_count": 55,
     "metadata": {},
     "output_type": "execute_result"
    }
   ],
   "source": [
    "experience= []\n",
    "for i in exp_tags:\n",
    "    experience.append(i.text)\n",
    "\n",
    "experience1= []\n",
    "for i in range(0, 10):\n",
    "    experience1.append(experience[i])\n",
    "    \n",
    "experience1"
   ]
  },
  {
   "cell_type": "code",
   "execution_count": 56,
   "id": "254f12e0",
   "metadata": {},
   "outputs": [
    {
     "data": {
      "text/plain": [
       "(10, 10, 10, 10)"
      ]
     },
     "execution_count": 56,
     "metadata": {},
     "output_type": "execute_result"
    }
   ],
   "source": [
    "len(job_titles1),len(company_names1),len(experience1),len(job_location1)"
   ]
  },
  {
   "cell_type": "code",
   "execution_count": 57,
   "id": "d44c61dd",
   "metadata": {},
   "outputs": [
    {
     "data": {
      "text/html": [
       "<div>\n",
       "<style scoped>\n",
       "    .dataframe tbody tr th:only-of-type {\n",
       "        vertical-align: middle;\n",
       "    }\n",
       "\n",
       "    .dataframe tbody tr th {\n",
       "        vertical-align: top;\n",
       "    }\n",
       "\n",
       "    .dataframe thead th {\n",
       "        text-align: right;\n",
       "    }\n",
       "</style>\n",
       "<table border=\"1\" class=\"dataframe\">\n",
       "  <thead>\n",
       "    <tr style=\"text-align: right;\">\n",
       "      <th></th>\n",
       "      <th>Job Title</th>\n",
       "      <th>Company</th>\n",
       "      <th>Experience</th>\n",
       "      <th>Location</th>\n",
       "    </tr>\n",
       "  </thead>\n",
       "  <tbody>\n",
       "    <tr>\n",
       "      <th>0</th>\n",
       "      <td>Excellent Opportunity For Freshers For AI/ML, ...</td>\n",
       "      <td>NTT Data</td>\n",
       "      <td>0-0 Yrs</td>\n",
       "      <td>Noida, Kolkata, Hyderabad/Secunderabad, Pune, ...</td>\n",
       "    </tr>\n",
       "    <tr>\n",
       "      <th>1</th>\n",
       "      <td>Junior Data Analyst/ Scientist- Fresher Position</td>\n",
       "      <td>Sejal Consulting Hub</td>\n",
       "      <td>0-3 Yrs</td>\n",
       "      <td>Kolkata, Hyderabad/Secunderabad, Pune, Ahmedab...</td>\n",
       "    </tr>\n",
       "    <tr>\n",
       "      <th>2</th>\n",
       "      <td>Only Fresher / Python Data Scientist / Trainee...</td>\n",
       "      <td>GABA Consultancy services</td>\n",
       "      <td>0-0 Yrs</td>\n",
       "      <td>Noida, New Delhi, Gurgaon/Gurugram</td>\n",
       "    </tr>\n",
       "    <tr>\n",
       "      <th>3</th>\n",
       "      <td>Data Scientist</td>\n",
       "      <td>Optum</td>\n",
       "      <td>2-6 Yrs</td>\n",
       "      <td>Noida, Gurgaon/Gurugram</td>\n",
       "    </tr>\n",
       "    <tr>\n",
       "      <th>4</th>\n",
       "      <td>Data Scientist - MIND Infotech</td>\n",
       "      <td>MOTHERSONSUMI INFOTECH &amp; DESIGNS LIMITED</td>\n",
       "      <td>4-8 Yrs</td>\n",
       "      <td>Noida</td>\n",
       "    </tr>\n",
       "    <tr>\n",
       "      <th>5</th>\n",
       "      <td>Data Scientist - MIND Infotech</td>\n",
       "      <td>MOTHERSONSUMI INFOTECH &amp; DESIGNS LIMITED</td>\n",
       "      <td>4-8 Yrs</td>\n",
       "      <td>Noida</td>\n",
       "    </tr>\n",
       "    <tr>\n",
       "      <th>6</th>\n",
       "      <td>Hiring For Data Scientist</td>\n",
       "      <td>Lumiq.ai</td>\n",
       "      <td>2-7 Yrs</td>\n",
       "      <td>Noida, Pune, Mumbai (All Areas)</td>\n",
       "    </tr>\n",
       "    <tr>\n",
       "      <th>7</th>\n",
       "      <td>Lead Data Scientist</td>\n",
       "      <td>Indihire HR Consultants Private Limited</td>\n",
       "      <td>2-4 Yrs</td>\n",
       "      <td>Delhi / NCR\\n(WFH during Covid)</td>\n",
       "    </tr>\n",
       "    <tr>\n",
       "      <th>8</th>\n",
       "      <td>Urgent Requirement || Data Scientist || Noida</td>\n",
       "      <td>HCL</td>\n",
       "      <td>3-8 Yrs</td>\n",
       "      <td>Noida, Delhi / NCR</td>\n",
       "    </tr>\n",
       "    <tr>\n",
       "      <th>9</th>\n",
       "      <td>Senior Data Scientist</td>\n",
       "      <td>iNICU</td>\n",
       "      <td>1-5 Yrs</td>\n",
       "      <td>Delhi</td>\n",
       "    </tr>\n",
       "  </tbody>\n",
       "</table>\n",
       "</div>"
      ],
      "text/plain": [
       "                                           Job Title  \\\n",
       "0  Excellent Opportunity For Freshers For AI/ML, ...   \n",
       "1   Junior Data Analyst/ Scientist- Fresher Position   \n",
       "2  Only Fresher / Python Data Scientist / Trainee...   \n",
       "3                                     Data Scientist   \n",
       "4                     Data Scientist - MIND Infotech   \n",
       "5                     Data Scientist - MIND Infotech   \n",
       "6                          Hiring For Data Scientist   \n",
       "7                                Lead Data Scientist   \n",
       "8      Urgent Requirement || Data Scientist || Noida   \n",
       "9                              Senior Data Scientist   \n",
       "\n",
       "                                    Company Experience  \\\n",
       "0                                  NTT Data    0-0 Yrs   \n",
       "1                      Sejal Consulting Hub    0-3 Yrs   \n",
       "2                 GABA Consultancy services    0-0 Yrs   \n",
       "3                                     Optum    2-6 Yrs   \n",
       "4  MOTHERSONSUMI INFOTECH & DESIGNS LIMITED    4-8 Yrs   \n",
       "5  MOTHERSONSUMI INFOTECH & DESIGNS LIMITED    4-8 Yrs   \n",
       "6                                  Lumiq.ai    2-7 Yrs   \n",
       "7   Indihire HR Consultants Private Limited    2-4 Yrs   \n",
       "8                                       HCL    3-8 Yrs   \n",
       "9                                     iNICU    1-5 Yrs   \n",
       "\n",
       "                                            Location  \n",
       "0  Noida, Kolkata, Hyderabad/Secunderabad, Pune, ...  \n",
       "1  Kolkata, Hyderabad/Secunderabad, Pune, Ahmedab...  \n",
       "2                 Noida, New Delhi, Gurgaon/Gurugram  \n",
       "3                            Noida, Gurgaon/Gurugram  \n",
       "4                                              Noida  \n",
       "5                                              Noida  \n",
       "6                    Noida, Pune, Mumbai (All Areas)  \n",
       "7                    Delhi / NCR\\n(WFH during Covid)  \n",
       "8                                 Noida, Delhi / NCR  \n",
       "9                                              Delhi  "
      ]
     },
     "execution_count": 57,
     "metadata": {},
     "output_type": "execute_result"
    }
   ],
   "source": [
    "jobs= pd.DataFrame()\n",
    "jobs['Job Title']= job_titles1\n",
    "jobs['Company']= company_names1\n",
    "jobs['Experience']= experience1\n",
    "jobs['Location']= job_location1\n",
    "jobs"
   ]
  },
  {
   "cell_type": "markdown",
   "id": "3cac2dd2",
   "metadata": {},
   "source": [
    "# 4.SUNGLASSES"
   ]
  },
  {
   "cell_type": "code",
   "execution_count": 58,
   "id": "082c177c",
   "metadata": {},
   "outputs": [],
   "source": [
    "import selenium\n",
    "from selenium import webdriver\n",
    "import pandas as pd\n",
    "import warnings\n",
    "warnings.filterwarnings(\"ignore\")"
   ]
  },
  {
   "cell_type": "code",
   "execution_count": 59,
   "id": "d4784799",
   "metadata": {},
   "outputs": [
    {
     "data": {
      "text/plain": [
       "<selenium.webdriver.chrome.webdriver.WebDriver (session=\"c712d5a35808330cd2a83b74fa53e888\")>"
      ]
     },
     "execution_count": 59,
     "metadata": {},
     "output_type": "execute_result"
    }
   ],
   "source": [
    "driver= webdriver.Chrome(r'C:/Users/bindu/Downloads/chromedriver_win32/chromedriver.exe')\n",
    "driver"
   ]
  },
  {
   "cell_type": "code",
   "execution_count": 60,
   "id": "d2ca232e",
   "metadata": {},
   "outputs": [],
   "source": [
    "url='https://www.flipkart.com/'\n",
    "driver.get(url)"
   ]
  },
  {
   "cell_type": "code",
   "execution_count": 61,
   "id": "353329eb",
   "metadata": {},
   "outputs": [
    {
     "data": {
      "text/plain": [
       "<selenium.webdriver.remote.webelement.WebElement (session=\"c712d5a35808330cd2a83b74fa53e888\", element=\"632c39d8-e7de-42ba-b462-62d355a2303a\")>"
      ]
     },
     "execution_count": 61,
     "metadata": {},
     "output_type": "execute_result"
    }
   ],
   "source": [
    "search_product= driver.find_element_by_class_name(\"_3704LK\")\n",
    "search_product"
   ]
  },
  {
   "cell_type": "code",
   "execution_count": 62,
   "id": "1ae1d47c",
   "metadata": {},
   "outputs": [],
   "source": [
    "search_product.send_keys(\"Sunglasses\")"
   ]
  },
  {
   "cell_type": "code",
   "execution_count": 63,
   "id": "05d4ae84",
   "metadata": {},
   "outputs": [
    {
     "data": {
      "text/plain": [
       "<selenium.webdriver.remote.webelement.WebElement (session=\"c712d5a35808330cd2a83b74fa53e888\", element=\"b1d06e71-12f4-4ba5-9351-fb7ad5b71f71\")>"
      ]
     },
     "execution_count": 63,
     "metadata": {},
     "output_type": "execute_result"
    }
   ],
   "source": [
    "search_btn= driver.find_element_by_class_name(\"_34RNph\")\n",
    "search_btn"
   ]
  },
  {
   "cell_type": "code",
   "execution_count": 64,
   "id": "766f96c2",
   "metadata": {},
   "outputs": [],
   "source": [
    "search_btn.click()"
   ]
  },
  {
   "cell_type": "code",
   "execution_count": 65,
   "id": "2f6cbe27",
   "metadata": {},
   "outputs": [],
   "source": [
    "brand = []\n",
    "description= []\n",
    "price= []\n",
    "discount= []\n",
    "for page in range(0, 3):\n",
    "    for i in driver.find_elements_by_class_name(\"_2WkVRV\"):\n",
    "        brand.append(i.text)\n",
    "    for j in driver.find_elements_by_class_name(\"IRpwTa\"):\n",
    "        description.append(j.text)\n",
    "    for k in driver.find_elements_by_xpath('//div[@class=\"_30jeq3\"]'):\n",
    "        price.append(k.text)\n",
    "    for l in driver.find_elements_by_class_name(\"_3Ay6Sb\"):\n",
    "        discount.append(l.text)\n",
    "        nxt_button=driver.find_elements_by_xpath(\"//a[@class='_1LKTO3']\")\n",
    "    try:\n",
    "        driver.get(nxt_button[1].get_attribute('href'))\n",
    "    except:  \n",
    "        driver.get(nxt_button[0].get_attribute('href'))"
   ]
  },
  {
   "cell_type": "code",
   "execution_count": 66,
   "id": "d0dd71ce",
   "metadata": {},
   "outputs": [
    {
     "data": {
      "text/html": [
       "<div>\n",
       "<style scoped>\n",
       "    .dataframe tbody tr th:only-of-type {\n",
       "        vertical-align: middle;\n",
       "    }\n",
       "\n",
       "    .dataframe tbody tr th {\n",
       "        vertical-align: top;\n",
       "    }\n",
       "\n",
       "    .dataframe thead th {\n",
       "        text-align: right;\n",
       "    }\n",
       "</style>\n",
       "<table border=\"1\" class=\"dataframe\">\n",
       "  <thead>\n",
       "    <tr style=\"text-align: right;\">\n",
       "      <th></th>\n",
       "      <th>Brand</th>\n",
       "      <th>Description</th>\n",
       "      <th>Price</th>\n",
       "      <th>Discount</th>\n",
       "    </tr>\n",
       "  </thead>\n",
       "  <tbody>\n",
       "    <tr>\n",
       "      <th>0</th>\n",
       "      <td>PC STAR</td>\n",
       "      <td>Riding Glasses, Gradient, Polarized, UV Protec...</td>\n",
       "      <td>₹349</td>\n",
       "      <td>76% off</td>\n",
       "    </tr>\n",
       "    <tr>\n",
       "      <th>1</th>\n",
       "      <td>ROYAL SON</td>\n",
       "      <td>UV Protection Over-sized, Retro Square Sunglas...</td>\n",
       "      <td>₹614</td>\n",
       "      <td>69% off</td>\n",
       "    </tr>\n",
       "    <tr>\n",
       "      <th>2</th>\n",
       "      <td>SRPM</td>\n",
       "      <td>UV Protection Wayfarer Sunglasses (50)</td>\n",
       "      <td>₹148</td>\n",
       "      <td>88% off</td>\n",
       "    </tr>\n",
       "    <tr>\n",
       "      <th>3</th>\n",
       "      <td>Elligator</td>\n",
       "      <td>UV Protection Round Sunglasses (54)</td>\n",
       "      <td>₹208</td>\n",
       "      <td>91% off</td>\n",
       "    </tr>\n",
       "    <tr>\n",
       "      <th>4</th>\n",
       "      <td>PIRASO</td>\n",
       "      <td>UV Protection Aviator Sunglasses (54)</td>\n",
       "      <td>₹179</td>\n",
       "      <td>88% off</td>\n",
       "    </tr>\n",
       "    <tr>\n",
       "      <th>...</th>\n",
       "      <td>...</td>\n",
       "      <td>...</td>\n",
       "      <td>...</td>\n",
       "      <td>...</td>\n",
       "    </tr>\n",
       "    <tr>\n",
       "      <th>95</th>\n",
       "      <td>ROYAL SON</td>\n",
       "      <td>Polarized, UV Protection Round Sunglasses (52)</td>\n",
       "      <td>₹709</td>\n",
       "      <td>70% off</td>\n",
       "    </tr>\n",
       "    <tr>\n",
       "      <th>96</th>\n",
       "      <td>hipe</td>\n",
       "      <td>Mirrored, Gradient, Riding Glasses Round Sungl...</td>\n",
       "      <td>₹139</td>\n",
       "      <td>59% off</td>\n",
       "    </tr>\n",
       "    <tr>\n",
       "      <th>97</th>\n",
       "      <td>NuVew</td>\n",
       "      <td>UV Protection Sports Sunglasses (62)</td>\n",
       "      <td>₹277</td>\n",
       "      <td>75% off</td>\n",
       "    </tr>\n",
       "    <tr>\n",
       "      <th>98</th>\n",
       "      <td>hipe</td>\n",
       "      <td>UV Protection Aviator Sunglasses (Free Size)</td>\n",
       "      <td>₹129</td>\n",
       "      <td>82% off</td>\n",
       "    </tr>\n",
       "    <tr>\n",
       "      <th>99</th>\n",
       "      <td>ROYAL SON</td>\n",
       "      <td>Polarized, UV Protection Rectangular Sunglasse...</td>\n",
       "      <td>₹649</td>\n",
       "      <td>68% off</td>\n",
       "    </tr>\n",
       "  </tbody>\n",
       "</table>\n",
       "<p>100 rows × 4 columns</p>\n",
       "</div>"
      ],
      "text/plain": [
       "        Brand                                        Description Price  \\\n",
       "0     PC STAR  Riding Glasses, Gradient, Polarized, UV Protec...  ₹349   \n",
       "1   ROYAL SON  UV Protection Over-sized, Retro Square Sunglas...  ₹614   \n",
       "2        SRPM             UV Protection Wayfarer Sunglasses (50)  ₹148   \n",
       "3   Elligator                UV Protection Round Sunglasses (54)  ₹208   \n",
       "4      PIRASO              UV Protection Aviator Sunglasses (54)  ₹179   \n",
       "..        ...                                                ...   ...   \n",
       "95  ROYAL SON     Polarized, UV Protection Round Sunglasses (52)  ₹709   \n",
       "96       hipe  Mirrored, Gradient, Riding Glasses Round Sungl...  ₹139   \n",
       "97      NuVew               UV Protection Sports Sunglasses (62)  ₹277   \n",
       "98       hipe       UV Protection Aviator Sunglasses (Free Size)  ₹129   \n",
       "99  ROYAL SON  Polarized, UV Protection Rectangular Sunglasse...  ₹649   \n",
       "\n",
       "   Discount  \n",
       "0   76% off  \n",
       "1   69% off  \n",
       "2   88% off  \n",
       "3   91% off  \n",
       "4   88% off  \n",
       "..      ...  \n",
       "95  70% off  \n",
       "96  59% off  \n",
       "97  75% off  \n",
       "98  82% off  \n",
       "99  68% off  \n",
       "\n",
       "[100 rows x 4 columns]"
      ]
     },
     "execution_count": 66,
     "metadata": {},
     "output_type": "execute_result"
    }
   ],
   "source": [
    "glasses= pd.DataFrame({'Brand':brand[:100],'Description':description[:100],'Price':price[:100],'Discount':discount[:100]})\n",
    "glasses\n"
   ]
  },
  {
   "cell_type": "markdown",
   "id": "ebf65141",
   "metadata": {},
   "source": [
    "# 5. IPHONE 11"
   ]
  },
  {
   "cell_type": "code",
   "execution_count": 71,
   "id": "8b65fe18",
   "metadata": {},
   "outputs": [],
   "source": [
    "import selenium\n",
    "from selenium import webdriver\n",
    "import pandas as pd\n",
    "import warnings\n",
    "warnings.filterwarnings(\"ignore\")"
   ]
  },
  {
   "cell_type": "code",
   "execution_count": 72,
   "id": "beefa598",
   "metadata": {},
   "outputs": [
    {
     "data": {
      "text/plain": [
       "<selenium.webdriver.chrome.webdriver.WebDriver (session=\"a159cdcfb9ce8bd6dd1b52e055e6e083\")>"
      ]
     },
     "execution_count": 72,
     "metadata": {},
     "output_type": "execute_result"
    }
   ],
   "source": [
    "driver= webdriver.Chrome(r'C:/Users/bindu/Downloads/chromedriver_win32/chromedriver.exe')\n",
    "driver"
   ]
  },
  {
   "cell_type": "code",
   "execution_count": 73,
   "id": "b12a738f",
   "metadata": {},
   "outputs": [],
   "source": [
    "url='https://www.flipkart.com/apple-iphone-11-black-64-gb-includes- earpods-power-adapter/p/itm0f37c2240b217?pid=MOBFKCTSVZAXUHGR&lid=LSTMOBFKCTSVZAXUHGREPBFGI&marketplace.'\n",
    "driver.get(url)"
   ]
  },
  {
   "cell_type": "code",
   "execution_count": 74,
   "id": "1258ab93",
   "metadata": {},
   "outputs": [],
   "source": [
    "rating= []\n",
    "review= []\n",
    "totalreview= []\n",
    "for page in range(0, 11):\n",
    "    for i in driver.find_elements_by_xpath(\"//div[@class='_3LWZlK _1BLPMq']\"):\n",
    "        rating.append(i.text)\n",
    "    for j in driver.find_elements_by_class_name(\"_2-N8zT\"):\n",
    "        review.append(j.text)\n",
    "    for k in driver.find_elements_by_class_name(\"t-ZTKy\"):\n",
    "        totalreview.append(k.text)\n",
    "        nxt_button=driver.find_elements_by_xpath(\"//a[@class='_1LKTO3']\")\n",
    "    try:\n",
    "        driver.get(nxt_button[1].get_attribute('href'))\n",
    "    except:  \n",
    "        driver.get(nxt_button[0].get_attribute('href'))"
   ]
  },
  {
   "cell_type": "code",
   "execution_count": 75,
   "id": "7b5edb49",
   "metadata": {},
   "outputs": [
    {
     "data": {
      "text/html": [
       "<div>\n",
       "<style scoped>\n",
       "    .dataframe tbody tr th:only-of-type {\n",
       "        vertical-align: middle;\n",
       "    }\n",
       "\n",
       "    .dataframe tbody tr th {\n",
       "        vertical-align: top;\n",
       "    }\n",
       "\n",
       "    .dataframe thead th {\n",
       "        text-align: right;\n",
       "    }\n",
       "</style>\n",
       "<table border=\"1\" class=\"dataframe\">\n",
       "  <thead>\n",
       "    <tr style=\"text-align: right;\">\n",
       "      <th></th>\n",
       "      <th>Rating</th>\n",
       "      <th>Review</th>\n",
       "      <th>Totalreview</th>\n",
       "    </tr>\n",
       "  </thead>\n",
       "  <tbody>\n",
       "    <tr>\n",
       "      <th>0</th>\n",
       "      <td>5</td>\n",
       "      <td>Brilliant</td>\n",
       "      <td>The Best Phone for the Money\\n\\nThe iPhone 11 ...</td>\n",
       "    </tr>\n",
       "    <tr>\n",
       "      <th>1</th>\n",
       "      <td>5</td>\n",
       "      <td>Simply awesome</td>\n",
       "      <td>Really satisfied with the Product I received.....</td>\n",
       "    </tr>\n",
       "    <tr>\n",
       "      <th>2</th>\n",
       "      <td>5</td>\n",
       "      <td>Best in the market!</td>\n",
       "      <td>Great iPhone very snappy experience as apple k...</td>\n",
       "    </tr>\n",
       "    <tr>\n",
       "      <th>3</th>\n",
       "      <td>5</td>\n",
       "      <td>Perfect product!</td>\n",
       "      <td>Amazing phone with great cameras and better ba...</td>\n",
       "    </tr>\n",
       "    <tr>\n",
       "      <th>4</th>\n",
       "      <td>5</td>\n",
       "      <td>Fabulous!</td>\n",
       "      <td>This is my first iOS phone. I am very happy wi...</td>\n",
       "    </tr>\n",
       "    <tr>\n",
       "      <th>...</th>\n",
       "      <td>...</td>\n",
       "      <td>...</td>\n",
       "      <td>...</td>\n",
       "    </tr>\n",
       "    <tr>\n",
       "      <th>95</th>\n",
       "      <td>5</td>\n",
       "      <td>Perfect product!</td>\n",
       "      <td>Nice 👌👌👌👌👌👌</td>\n",
       "    </tr>\n",
       "    <tr>\n",
       "      <th>96</th>\n",
       "      <td>5</td>\n",
       "      <td>Fabulous!</td>\n",
       "      <td>MD sufiyan rider Owsm\\nMobile nd battery mast ...</td>\n",
       "    </tr>\n",
       "    <tr>\n",
       "      <th>97</th>\n",
       "      <td>5</td>\n",
       "      <td>Wonderful</td>\n",
       "      <td>Ok, so after almost 3 years I am again back in...</td>\n",
       "    </tr>\n",
       "    <tr>\n",
       "      <th>98</th>\n",
       "      <td>5</td>\n",
       "      <td>Worth every penny</td>\n",
       "      <td>Here is the thing\\n\\nThe only reason why you s...</td>\n",
       "    </tr>\n",
       "    <tr>\n",
       "      <th>99</th>\n",
       "      <td>4</td>\n",
       "      <td>Nice product</td>\n",
       "      <td>If you are looking for a premium phone under 5...</td>\n",
       "    </tr>\n",
       "  </tbody>\n",
       "</table>\n",
       "<p>100 rows × 3 columns</p>\n",
       "</div>"
      ],
      "text/plain": [
       "   Rating               Review  \\\n",
       "0       5            Brilliant   \n",
       "1       5       Simply awesome   \n",
       "2       5  Best in the market!   \n",
       "3       5     Perfect product!   \n",
       "4       5            Fabulous!   \n",
       "..    ...                  ...   \n",
       "95      5     Perfect product!   \n",
       "96      5            Fabulous!   \n",
       "97      5            Wonderful   \n",
       "98      5    Worth every penny   \n",
       "99      4         Nice product   \n",
       "\n",
       "                                          Totalreview  \n",
       "0   The Best Phone for the Money\\n\\nThe iPhone 11 ...  \n",
       "1   Really satisfied with the Product I received.....  \n",
       "2   Great iPhone very snappy experience as apple k...  \n",
       "3   Amazing phone with great cameras and better ba...  \n",
       "4   This is my first iOS phone. I am very happy wi...  \n",
       "..                                                ...  \n",
       "95                                        Nice 👌👌👌👌👌👌  \n",
       "96  MD sufiyan rider Owsm\\nMobile nd battery mast ...  \n",
       "97  Ok, so after almost 3 years I am again back in...  \n",
       "98  Here is the thing\\n\\nThe only reason why you s...  \n",
       "99  If you are looking for a premium phone under 5...  \n",
       "\n",
       "[100 rows x 3 columns]"
      ]
     },
     "execution_count": 75,
     "metadata": {},
     "output_type": "execute_result"
    }
   ],
   "source": [
    "iphones= pd.DataFrame({'Rating':rating[:100],'Review':review[:100],'Totalreview':totalreview[:100]})\n",
    "iphones\n"
   ]
  },
  {
   "cell_type": "markdown",
   "id": "efee9ce4",
   "metadata": {},
   "source": [
    "# 6.FLIPKART SNEAKERS"
   ]
  },
  {
   "cell_type": "code",
   "execution_count": 76,
   "id": "fc6e4577",
   "metadata": {},
   "outputs": [],
   "source": [
    "import selenium\n",
    "from selenium import webdriver\n",
    "import pandas as pd\n",
    "import warnings\n",
    "warnings.filterwarnings(\"ignore\")"
   ]
  },
  {
   "cell_type": "code",
   "execution_count": 77,
   "id": "6e8231b5",
   "metadata": {},
   "outputs": [
    {
     "data": {
      "text/plain": [
       "<selenium.webdriver.chrome.webdriver.WebDriver (session=\"ef588ad252b5528b7c787cc62eb61393\")>"
      ]
     },
     "execution_count": 77,
     "metadata": {},
     "output_type": "execute_result"
    }
   ],
   "source": [
    "driver= webdriver.Chrome(r'C:/Users/bindu/Downloads/chromedriver_win32/chromedriver.exe')\n",
    "driver"
   ]
  },
  {
   "cell_type": "code",
   "execution_count": 78,
   "id": "de13fb8f",
   "metadata": {},
   "outputs": [],
   "source": [
    "url='https://www.flipkart.com/'\n",
    "driver.get(url)"
   ]
  },
  {
   "cell_type": "code",
   "execution_count": 79,
   "id": "44eebf42",
   "metadata": {},
   "outputs": [
    {
     "data": {
      "text/plain": [
       "<selenium.webdriver.remote.webelement.WebElement (session=\"ef588ad252b5528b7c787cc62eb61393\", element=\"41bde174-580e-4df0-8e8e-e598e58190ea\")>"
      ]
     },
     "execution_count": 79,
     "metadata": {},
     "output_type": "execute_result"
    }
   ],
   "source": [
    "search_box= driver.find_element_by_xpath('/html/body/div[1]/div/div[1]/div[1]/div[2]/div[2]/form/div/div/input')\n",
    "search_box"
   ]
  },
  {
   "cell_type": "code",
   "execution_count": 80,
   "id": "7badecff",
   "metadata": {},
   "outputs": [],
   "source": [
    "search_box.send_keys(\"sneakers\")"
   ]
  },
  {
   "cell_type": "code",
   "execution_count": 81,
   "id": "b5f2cee6",
   "metadata": {},
   "outputs": [
    {
     "data": {
      "text/plain": [
       "<selenium.webdriver.remote.webelement.WebElement (session=\"ef588ad252b5528b7c787cc62eb61393\", element=\"d44b4716-595e-4b9e-b9cf-2acb85e1048e\")>"
      ]
     },
     "execution_count": 81,
     "metadata": {},
     "output_type": "execute_result"
    }
   ],
   "source": [
    "search_btn= driver.find_element_by_class_name(\"L0Z3Pu\")\n",
    "search_btn"
   ]
  },
  {
   "cell_type": "code",
   "execution_count": 82,
   "id": "f267a202",
   "metadata": {},
   "outputs": [],
   "source": [
    "search_btn.click()"
   ]
  },
  {
   "cell_type": "code",
   "execution_count": 83,
   "id": "128a6dbd",
   "metadata": {},
   "outputs": [],
   "source": [
    "brand = []\n",
    "description= []\n",
    "price= []\n",
    "discount= []\n",
    "for page in range(0, 3):\n",
    "    for i in driver.find_elements_by_class_name(\"_2WkVRV\"):\n",
    "        brand.append(i.text)\n",
    "    for j in driver.find_elements_by_class_name(\"IRpwTa\"):\n",
    "        description.append(j.text)\n",
    "    for k in driver.find_elements_by_xpath('//div[@class=\"_30jeq3\"]'):\n",
    "        price.append(k.text)\n",
    "    for l in driver.find_elements_by_class_name(\"_3Ay6Sb\"):\n",
    "        discount.append(l.text)\n",
    "        nxt_button=driver.find_elements_by_xpath(\"//a[@class='_1LKTO3']\")\n",
    "    try:\n",
    "        driver.get(nxt_button[1].get_attribute('href'))\n",
    "    except:  \n",
    "        driver.get(nxt_button[0].get_attribute('href'))"
   ]
  },
  {
   "cell_type": "code",
   "execution_count": 84,
   "id": "7f86424e",
   "metadata": {},
   "outputs": [
    {
     "data": {
      "text/html": [
       "<div>\n",
       "<style scoped>\n",
       "    .dataframe tbody tr th:only-of-type {\n",
       "        vertical-align: middle;\n",
       "    }\n",
       "\n",
       "    .dataframe tbody tr th {\n",
       "        vertical-align: top;\n",
       "    }\n",
       "\n",
       "    .dataframe thead th {\n",
       "        text-align: right;\n",
       "    }\n",
       "</style>\n",
       "<table border=\"1\" class=\"dataframe\">\n",
       "  <thead>\n",
       "    <tr style=\"text-align: right;\">\n",
       "      <th></th>\n",
       "      <th>Brand</th>\n",
       "      <th>Description</th>\n",
       "      <th>Price</th>\n",
       "      <th>Discount</th>\n",
       "    </tr>\n",
       "  </thead>\n",
       "  <tbody>\n",
       "    <tr>\n",
       "      <th>0</th>\n",
       "      <td>HRX by Hrithik Roshan</td>\n",
       "      <td>Men White Printed Sneakers Sneakers For Men</td>\n",
       "      <td>₹2,049</td>\n",
       "      <td>46% off</td>\n",
       "    </tr>\n",
       "    <tr>\n",
       "      <th>1</th>\n",
       "      <td>RapidBox</td>\n",
       "      <td>Sneakers For Men</td>\n",
       "      <td>₹590</td>\n",
       "      <td>40% off</td>\n",
       "    </tr>\n",
       "    <tr>\n",
       "      <th>2</th>\n",
       "      <td>Kzaara</td>\n",
       "      <td>Sneakers For Men</td>\n",
       "      <td>₹209</td>\n",
       "      <td>79% off</td>\n",
       "    </tr>\n",
       "    <tr>\n",
       "      <th>3</th>\n",
       "      <td>Chevit</td>\n",
       "      <td>Super Stylish &amp; Trendy Combo Pack of 02 Pairs ...</td>\n",
       "      <td>₹469</td>\n",
       "      <td>70% off</td>\n",
       "    </tr>\n",
       "    <tr>\n",
       "      <th>4</th>\n",
       "      <td>BRUTON</td>\n",
       "      <td>Modern Trendy Sneakers Shoes Sneakers For Men</td>\n",
       "      <td>₹209</td>\n",
       "      <td>83% off</td>\n",
       "    </tr>\n",
       "    <tr>\n",
       "      <th>...</th>\n",
       "      <td>...</td>\n",
       "      <td>...</td>\n",
       "      <td>...</td>\n",
       "      <td>...</td>\n",
       "    </tr>\n",
       "    <tr>\n",
       "      <th>95</th>\n",
       "      <td>RapidBox</td>\n",
       "      <td>Sneakers For Men</td>\n",
       "      <td>₹590</td>\n",
       "      <td>46% off</td>\n",
       "    </tr>\n",
       "    <tr>\n",
       "      <th>96</th>\n",
       "      <td>WHITEHUB</td>\n",
       "      <td>Sneakers For Men</td>\n",
       "      <td>₹399</td>\n",
       "      <td>57% off</td>\n",
       "    </tr>\n",
       "    <tr>\n",
       "      <th>97</th>\n",
       "      <td>Chevit</td>\n",
       "      <td>Super 445 Fashion Sneakers For Men</td>\n",
       "      <td>₹349</td>\n",
       "      <td>46% off</td>\n",
       "    </tr>\n",
       "    <tr>\n",
       "      <th>98</th>\n",
       "      <td>Magnolia</td>\n",
       "      <td>Sneakers For Men</td>\n",
       "      <td>₹327</td>\n",
       "      <td>76% off</td>\n",
       "    </tr>\n",
       "    <tr>\n",
       "      <th>99</th>\n",
       "      <td>RapidBox</td>\n",
       "      <td>Sneakers For Men</td>\n",
       "      <td>₹590</td>\n",
       "      <td>60% off</td>\n",
       "    </tr>\n",
       "  </tbody>\n",
       "</table>\n",
       "<p>100 rows × 4 columns</p>\n",
       "</div>"
      ],
      "text/plain": [
       "                    Brand                                        Description  \\\n",
       "0   HRX by Hrithik Roshan        Men White Printed Sneakers Sneakers For Men   \n",
       "1                RapidBox                                   Sneakers For Men   \n",
       "2                  Kzaara                                   Sneakers For Men   \n",
       "3                  Chevit  Super Stylish & Trendy Combo Pack of 02 Pairs ...   \n",
       "4                  BRUTON      Modern Trendy Sneakers Shoes Sneakers For Men   \n",
       "..                    ...                                                ...   \n",
       "95               RapidBox                                   Sneakers For Men   \n",
       "96               WHITEHUB                                   Sneakers For Men   \n",
       "97                 Chevit                 Super 445 Fashion Sneakers For Men   \n",
       "98               Magnolia                                   Sneakers For Men   \n",
       "99               RapidBox                                   Sneakers For Men   \n",
       "\n",
       "     Price Discount  \n",
       "0   ₹2,049  46% off  \n",
       "1     ₹590  40% off  \n",
       "2     ₹209  79% off  \n",
       "3     ₹469  70% off  \n",
       "4     ₹209  83% off  \n",
       "..     ...      ...  \n",
       "95    ₹590  46% off  \n",
       "96    ₹399  57% off  \n",
       "97    ₹349  46% off  \n",
       "98    ₹327  76% off  \n",
       "99    ₹590  60% off  \n",
       "\n",
       "[100 rows x 4 columns]"
      ]
     },
     "execution_count": 84,
     "metadata": {},
     "output_type": "execute_result"
    }
   ],
   "source": [
    "sneakers= pd.DataFrame({'Brand':brand[:100],'Description':description[:100],'Price':price[:100],'Discount':discount[:100]})\n",
    "sneakers\n"
   ]
  },
  {
   "cell_type": "markdown",
   "id": "6f73cff4",
   "metadata": {},
   "source": [
    "# 7.SNEAKERS MYNTRA"
   ]
  },
  {
   "cell_type": "code",
   "execution_count": 85,
   "id": "f0c7130f",
   "metadata": {},
   "outputs": [],
   "source": [
    "import selenium\n",
    "from selenium import webdriver\n",
    "import pandas as pd\n",
    "import warnings\n",
    "warnings.filterwarnings(\"ignore\")"
   ]
  },
  {
   "cell_type": "code",
   "execution_count": 86,
   "id": "10298543",
   "metadata": {},
   "outputs": [
    {
     "data": {
      "text/plain": [
       "<selenium.webdriver.chrome.webdriver.WebDriver (session=\"c1ba8f01b814fcbbcd87f94400cce353\")>"
      ]
     },
     "execution_count": 86,
     "metadata": {},
     "output_type": "execute_result"
    }
   ],
   "source": [
    "driver= webdriver.Chrome(r'C:/Users/bindu/Downloads/chromedriver_win32/chromedriver.exe')\n",
    "driver"
   ]
  },
  {
   "cell_type": "code",
   "execution_count": 87,
   "id": "40c52ec0",
   "metadata": {},
   "outputs": [],
   "source": [
    "url='https://www.myntra.com/shoes'\n",
    "driver.get(url)"
   ]
  },
  {
   "cell_type": "code",
   "execution_count": 88,
   "id": "adfb4233",
   "metadata": {},
   "outputs": [
    {
     "data": {
      "text/plain": [
       "<selenium.webdriver.remote.webelement.WebElement (session=\"c1ba8f01b814fcbbcd87f94400cce353\", element=\"3fdc7260-0d78-467b-a6ba-17091b4e1083\")>"
      ]
     },
     "execution_count": 88,
     "metadata": {},
     "output_type": "execute_result"
    }
   ],
   "source": [
    "price_tag=driver.find_element_by_xpath('/html/body/div[2]/div/div[1]/main/div[3]/div[1]/section/div/div[5]/ul/li[2]/label/div')\n",
    "price_tag"
   ]
  },
  {
   "cell_type": "code",
   "execution_count": 89,
   "id": "23bf1be6",
   "metadata": {},
   "outputs": [],
   "source": [
    "price_tag.click()"
   ]
  },
  {
   "cell_type": "code",
   "execution_count": 90,
   "id": "7398af6f",
   "metadata": {},
   "outputs": [],
   "source": [
    "color_tag=driver.find_element_by_xpath('//li[@class=\"colour-listItem\"]')"
   ]
  },
  {
   "cell_type": "code",
   "execution_count": 91,
   "id": "39338747",
   "metadata": {},
   "outputs": [],
   "source": [
    "color_tag.click()"
   ]
  },
  {
   "cell_type": "code",
   "execution_count": 92,
   "id": "b90fffa5",
   "metadata": {},
   "outputs": [],
   "source": [
    "brand = []\n",
    "description= []\n",
    "price= []\n",
    "for page in range(0, 2):\n",
    "    for i in driver.find_elements_by_class_name(\"product-brand\"):\n",
    "        brand.append(i.text)\n",
    "    for j in driver.find_elements_by_class_name(\"product-product\"):\n",
    "        description.append(j.text)\n",
    "    for k in driver.find_elements_by_xpath('//div[@class=\"product-price\"]'):\n",
    "        price.append(k.text)\n",
    "        nxt_button=driver.find_elements_by_xpath(\"//a[@rel='next']\")\n",
    "    try:\n",
    "        driver.get(nxt_button[1].get_attribute('href'))\n",
    "    except:  \n",
    "        driver.get(nxt_button[0].get_attribute('href'))"
   ]
  },
  {
   "cell_type": "code",
   "execution_count": 93,
   "id": "f6cae781",
   "metadata": {},
   "outputs": [
    {
     "data": {
      "text/html": [
       "<div>\n",
       "<style scoped>\n",
       "    .dataframe tbody tr th:only-of-type {\n",
       "        vertical-align: middle;\n",
       "    }\n",
       "\n",
       "    .dataframe tbody tr th {\n",
       "        vertical-align: top;\n",
       "    }\n",
       "\n",
       "    .dataframe thead th {\n",
       "        text-align: right;\n",
       "    }\n",
       "</style>\n",
       "<table border=\"1\" class=\"dataframe\">\n",
       "  <thead>\n",
       "    <tr style=\"text-align: right;\">\n",
       "      <th></th>\n",
       "      <th>Brand</th>\n",
       "      <th>Description</th>\n",
       "      <th>Price</th>\n",
       "    </tr>\n",
       "  </thead>\n",
       "  <tbody>\n",
       "    <tr>\n",
       "      <th>0</th>\n",
       "      <td>Puma</td>\n",
       "      <td>Electrify Nitro Running Shoes</td>\n",
       "      <td>Rs. 9999</td>\n",
       "    </tr>\n",
       "    <tr>\n",
       "      <th>1</th>\n",
       "      <td>ALDO</td>\n",
       "      <td>Men Printed Sneakers</td>\n",
       "      <td>Rs. 9099Rs. 12999(30% OFF)</td>\n",
       "    </tr>\n",
       "    <tr>\n",
       "      <th>2</th>\n",
       "      <td>Nike</td>\n",
       "      <td>Men Winflo 7 Running Shoes</td>\n",
       "      <td>Rs. 7995</td>\n",
       "    </tr>\n",
       "    <tr>\n",
       "      <th>3</th>\n",
       "      <td>ALDO</td>\n",
       "      <td>Men Leather Driving Shoes</td>\n",
       "      <td>Rs. 12999</td>\n",
       "    </tr>\n",
       "    <tr>\n",
       "      <th>4</th>\n",
       "      <td>ALDO</td>\n",
       "      <td>Men Woven Design Sneakers</td>\n",
       "      <td>Rs. 13999</td>\n",
       "    </tr>\n",
       "    <tr>\n",
       "      <th>...</th>\n",
       "      <td>...</td>\n",
       "      <td>...</td>\n",
       "      <td>...</td>\n",
       "    </tr>\n",
       "    <tr>\n",
       "      <th>95</th>\n",
       "      <td>Tommy Hilfiger</td>\n",
       "      <td>Men Cleated Leather Sneakers</td>\n",
       "      <td>Rs. 8599</td>\n",
       "    </tr>\n",
       "    <tr>\n",
       "      <th>96</th>\n",
       "      <td>Saint G</td>\n",
       "      <td>Suede High-Top Flatform Heeled Boots</td>\n",
       "      <td>Rs. 11475Rs. 13500(15% OFF)</td>\n",
       "    </tr>\n",
       "    <tr>\n",
       "      <th>97</th>\n",
       "      <td>Saint G</td>\n",
       "      <td>Leather Boots with Buckles</td>\n",
       "      <td>Rs. 8925Rs. 10500(15% OFF)</td>\n",
       "    </tr>\n",
       "    <tr>\n",
       "      <th>98</th>\n",
       "      <td>Saint G</td>\n",
       "      <td>Women High-Top Heeled Boots</td>\n",
       "      <td>Rs. 12093Rs. 13900(13% OFF)</td>\n",
       "    </tr>\n",
       "    <tr>\n",
       "      <th>99</th>\n",
       "      <td>Saint G</td>\n",
       "      <td>Embellished Leather Block Heeled Boots</td>\n",
       "      <td>Rs. 7869Rs. 12900(39% OFF)</td>\n",
       "    </tr>\n",
       "  </tbody>\n",
       "</table>\n",
       "<p>100 rows × 3 columns</p>\n",
       "</div>"
      ],
      "text/plain": [
       "             Brand                             Description  \\\n",
       "0             Puma           Electrify Nitro Running Shoes   \n",
       "1             ALDO                    Men Printed Sneakers   \n",
       "2             Nike              Men Winflo 7 Running Shoes   \n",
       "3             ALDO               Men Leather Driving Shoes   \n",
       "4             ALDO               Men Woven Design Sneakers   \n",
       "..             ...                                     ...   \n",
       "95  Tommy Hilfiger            Men Cleated Leather Sneakers   \n",
       "96         Saint G    Suede High-Top Flatform Heeled Boots   \n",
       "97         Saint G              Leather Boots with Buckles   \n",
       "98         Saint G             Women High-Top Heeled Boots   \n",
       "99         Saint G  Embellished Leather Block Heeled Boots   \n",
       "\n",
       "                          Price  \n",
       "0                      Rs. 9999  \n",
       "1    Rs. 9099Rs. 12999(30% OFF)  \n",
       "2                      Rs. 7995  \n",
       "3                     Rs. 12999  \n",
       "4                     Rs. 13999  \n",
       "..                          ...  \n",
       "95                     Rs. 8599  \n",
       "96  Rs. 11475Rs. 13500(15% OFF)  \n",
       "97   Rs. 8925Rs. 10500(15% OFF)  \n",
       "98  Rs. 12093Rs. 13900(13% OFF)  \n",
       "99   Rs. 7869Rs. 12900(39% OFF)  \n",
       "\n",
       "[100 rows x 3 columns]"
      ]
     },
     "execution_count": 93,
     "metadata": {},
     "output_type": "execute_result"
    }
   ],
   "source": [
    "msneakers= pd.DataFrame({'Brand':brand[:100],'Description':description[:100],'Price':price[:100]})\n",
    "msneakers\n"
   ]
  },
  {
   "cell_type": "markdown",
   "id": "65c01109",
   "metadata": {},
   "source": [
    "# 8.AMAZON LAPTOPS"
   ]
  },
  {
   "cell_type": "code",
   "execution_count": 15,
   "id": "a4caf427",
   "metadata": {},
   "outputs": [],
   "source": [
    "import selenium\n",
    "from selenium import webdriver\n",
    "import pandas as pd\n",
    "import warnings\n",
    "warnings.filterwarnings(\"ignore\")"
   ]
  },
  {
   "cell_type": "code",
   "execution_count": 16,
   "id": "0bb229b0",
   "metadata": {},
   "outputs": [
    {
     "data": {
      "text/plain": [
       "<selenium.webdriver.chrome.webdriver.WebDriver (session=\"53f89f8f395a681d60155f094eab4494\")>"
      ]
     },
     "execution_count": 16,
     "metadata": {},
     "output_type": "execute_result"
    }
   ],
   "source": [
    "driver= webdriver.Chrome(r'C:/Users/bindu/Downloads/chromedriver_win32/chromedriver.exe')\n",
    "driver"
   ]
  },
  {
   "cell_type": "code",
   "execution_count": 17,
   "id": "7c518a33",
   "metadata": {},
   "outputs": [],
   "source": [
    "url='https://www.amazon.in/'\n",
    "driver.get(url)"
   ]
  },
  {
   "cell_type": "code",
   "execution_count": 18,
   "id": "28a4a796",
   "metadata": {},
   "outputs": [
    {
     "data": {
      "text/plain": [
       "<selenium.webdriver.remote.webelement.WebElement (session=\"53f89f8f395a681d60155f094eab4494\", element=\"c4643440-d7b8-4852-98b5-8e2c56c1d059\")>"
      ]
     },
     "execution_count": 18,
     "metadata": {},
     "output_type": "execute_result"
    }
   ],
   "source": [
    "search_box= driver.find_element_by_xpath('/html/body/div[1]/header/div/div[1]/div[2]/div/form/div[2]/div[1]/input')\n",
    "search_box"
   ]
  },
  {
   "cell_type": "code",
   "execution_count": 19,
   "id": "4a5bc85a",
   "metadata": {},
   "outputs": [],
   "source": [
    "search_box.send_keys(\"Laptops\")"
   ]
  },
  {
   "cell_type": "code",
   "execution_count": 20,
   "id": "3e1165bc",
   "metadata": {},
   "outputs": [
    {
     "data": {
      "text/plain": [
       "<selenium.webdriver.remote.webelement.WebElement (session=\"53f89f8f395a681d60155f094eab4494\", element=\"f5bf8257-3bdc-4533-aab9-7e98be061fe0\")>"
      ]
     },
     "execution_count": 20,
     "metadata": {},
     "output_type": "execute_result"
    }
   ],
   "source": [
    "search_btn= driver.find_element_by_xpath('/html/body/div[1]/header/div/div[1]/div[2]/div/form/div[3]/div/span/input')\n",
    "search_btn"
   ]
  },
  {
   "cell_type": "code",
   "execution_count": 21,
   "id": "be6d819e",
   "metadata": {},
   "outputs": [],
   "source": [
    "search_btn.click()"
   ]
  },
  {
   "cell_type": "code",
   "execution_count": 22,
   "id": "dcfe4ef5",
   "metadata": {},
   "outputs": [
    {
     "data": {
      "text/plain": [
       "[<selenium.webdriver.remote.webelement.WebElement (session=\"53f89f8f395a681d60155f094eab4494\", element=\"1992979e-8eb3-46c5-83ed-8b8aa26e3f66\")>,\n",
       " <selenium.webdriver.remote.webelement.WebElement (session=\"53f89f8f395a681d60155f094eab4494\", element=\"95fac89c-4097-470d-aae9-84fb0a490734\")>,\n",
       " <selenium.webdriver.remote.webelement.WebElement (session=\"53f89f8f395a681d60155f094eab4494\", element=\"066298bc-2aa9-46a7-880e-a4b62395dce9\")>,\n",
       " <selenium.webdriver.remote.webelement.WebElement (session=\"53f89f8f395a681d60155f094eab4494\", element=\"3d2204f7-95b7-40e1-9f41-9a9bf77e3885\")>,\n",
       " <selenium.webdriver.remote.webelement.WebElement (session=\"53f89f8f395a681d60155f094eab4494\", element=\"f65dc43d-ca1f-4925-a625-c064360a2b73\")>,\n",
       " <selenium.webdriver.remote.webelement.WebElement (session=\"53f89f8f395a681d60155f094eab4494\", element=\"aea4bc3a-4877-45c5-a6e3-7762b68ca077\")>,\n",
       " <selenium.webdriver.remote.webelement.WebElement (session=\"53f89f8f395a681d60155f094eab4494\", element=\"44133da6-6b90-47df-a69a-5f0279ba759d\")>,\n",
       " <selenium.webdriver.remote.webelement.WebElement (session=\"53f89f8f395a681d60155f094eab4494\", element=\"180ec72b-9e15-453c-b0e5-57a6f2cd4284\")>,\n",
       " <selenium.webdriver.remote.webelement.WebElement (session=\"53f89f8f395a681d60155f094eab4494\", element=\"846d7acb-7266-4239-8cd3-fa0da3aa977b\")>,\n",
       " <selenium.webdriver.remote.webelement.WebElement (session=\"53f89f8f395a681d60155f094eab4494\", element=\"85f0f009-b555-4e98-b69d-d530a96101f2\")>]"
      ]
     },
     "execution_count": 22,
     "metadata": {},
     "output_type": "execute_result"
    }
   ],
   "source": [
    "lap_tags=driver.find_elements_by_xpath('//h2[@class=\"a-size-mini a-spacing-none a-color-base s-line-clamp-2\"]')\n",
    "len(lap_tags)\n",
    "lap_tags[0:10]"
   ]
  },
  {
   "cell_type": "code",
   "execution_count": 23,
   "id": "094ca845",
   "metadata": {},
   "outputs": [
    {
     "data": {
      "text/plain": [
       "['Microsoft Surface Go 10th Gen Intel Core i5-1035G1 12.4 inches Touchscreen Business Laptop (8GB/128GB SSD/Windows 10 Home in S Mode/UHD Graphics/Platinum/1.110 kg, 25% Off on Microsoft 365), THH-00023',\n",
       " 'Microsoft Surface GO 3 8VA-00013 10.5\" (26.67 cms) Laptop (Intel Pentium T6600 Processor/8GB/128GB SSD/Windows 11 Home), Platinum',\n",
       " 'Lenovo IdeaPad 3 10th Gen Intel Core i3 15.6 HD Thin and Light Laptop (8GB/1TB HDD/Windows 11/MS Office 2021/2Yr Warranty/Platinum Grey/1.7Kg), 81WB01BCIN',\n",
       " \"Lenovo IdeaPad 3 Intel Celeron N4020 14'' HD Thin & Light Laptop (4GB/256GB HDD/Windows 11/MS Office 2021/Platinum Grey/1.5Kg), 81WH007KIN\",\n",
       " 'Dell New Inspiron 3511 Laptop Intel i3-1115G4, 8GB DDR4, 1TB, Win 11 + MSO\\'21, Integrated Graphics, 15.6\" (39.61 cms) Anti Glare FHD Display, Carbon Black (D560646WIN9B), 1.8Kgs',\n",
       " 'ASUS ZenBook 14 (2020) Intel Core i5-1135G7 11th Gen 14-inch (35.56 cms) FHD T&L Laptop (8GB RAM/512GB NVMe SSD/Windows 10/MS Office 2019/Intel Iris Xᵉ Graphics/Pine Grey/1.17 kg), UX425EA-BM501TS',\n",
       " 'HP 14 10th Gen Intel Core i5-10210U 14 inches HD Laptop (8GB/512GB SSD/Windows 10/MS Office/Windows 10/Jet Black/1.5 kg), 14-ck2018tu',\n",
       " '',\n",
       " 'Lenovo IdeaPad Slim 3 10th Gen Intel Core i3 15.6 HD Thin and Light Laptop (8GB/1TB HDD/Windows 11/MS Office 2021/2Yr Warranty/Platinum Grey/1.7Kg), 81WB01E9IN',\n",
       " 'HP Chromebook 14 Intel Celeron N4020-4GB SDRAM/64GB eMMC + 256GB Expandable Storage 14inch(35.6 cm) Thin & Light Touchscreen Laptop (Chrome OS/B&O/Google Assistant/BL Keyboard/1.46 kg),14a-na0003TU']"
      ]
     },
     "execution_count": 23,
     "metadata": {},
     "output_type": "execute_result"
    }
   ],
   "source": [
    "lap_names = []\n",
    "for i in lap_tags:\n",
    "    lap_names.append(i.text)\n",
    "lap_names1 = []\n",
    "for i in range(0, 10):\n",
    "    lap_names1.append(lap_names[i])\n",
    "lap_names1"
   ]
  },
  {
   "cell_type": "code",
   "execution_count": 24,
   "id": "182b4f72",
   "metadata": {},
   "outputs": [
    {
     "data": {
      "text/plain": [
       "[<selenium.webdriver.remote.webelement.WebElement (session=\"53f89f8f395a681d60155f094eab4494\", element=\"bbffd046-12a9-4acd-8514-1b09813f3757\")>,\n",
       " <selenium.webdriver.remote.webelement.WebElement (session=\"53f89f8f395a681d60155f094eab4494\", element=\"34650770-ae67-49a3-946e-c6a3560204dd\")>,\n",
       " <selenium.webdriver.remote.webelement.WebElement (session=\"53f89f8f395a681d60155f094eab4494\", element=\"3f307803-5e35-4f55-a333-c397ea1fd969\")>,\n",
       " <selenium.webdriver.remote.webelement.WebElement (session=\"53f89f8f395a681d60155f094eab4494\", element=\"6e30ff69-7784-4253-b646-219cc51b274c\")>,\n",
       " <selenium.webdriver.remote.webelement.WebElement (session=\"53f89f8f395a681d60155f094eab4494\", element=\"85b7d41c-7a73-4dec-85f7-07fc4b0af193\")>,\n",
       " <selenium.webdriver.remote.webelement.WebElement (session=\"53f89f8f395a681d60155f094eab4494\", element=\"821df958-c69b-4d5e-8276-ac3beb702934\")>,\n",
       " <selenium.webdriver.remote.webelement.WebElement (session=\"53f89f8f395a681d60155f094eab4494\", element=\"11c6472f-2015-4f34-bf83-235fd7530c3f\")>,\n",
       " <selenium.webdriver.remote.webelement.WebElement (session=\"53f89f8f395a681d60155f094eab4494\", element=\"5efe2823-70dc-46f1-acce-9452dc19bab7\")>,\n",
       " <selenium.webdriver.remote.webelement.WebElement (session=\"53f89f8f395a681d60155f094eab4494\", element=\"3a440e39-dccb-45b0-b86e-68b8a2c3b1d6\")>,\n",
       " <selenium.webdriver.remote.webelement.WebElement (session=\"53f89f8f395a681d60155f094eab4494\", element=\"338e5338-d8ca-4353-b949-e06e3f192d6e\")>,\n",
       " <selenium.webdriver.remote.webelement.WebElement (session=\"53f89f8f395a681d60155f094eab4494\", element=\"968327bb-4ceb-4d94-98e5-297e0a4f447b\")>,\n",
       " <selenium.webdriver.remote.webelement.WebElement (session=\"53f89f8f395a681d60155f094eab4494\", element=\"f352c76f-e331-4572-bf6d-2c5d86ce5319\")>,\n",
       " <selenium.webdriver.remote.webelement.WebElement (session=\"53f89f8f395a681d60155f094eab4494\", element=\"d999ce7a-8bc9-417f-a6f2-b529bda83dd7\")>,\n",
       " <selenium.webdriver.remote.webelement.WebElement (session=\"53f89f8f395a681d60155f094eab4494\", element=\"7fa510a0-3878-4758-b918-15aa071f2b0f\")>,\n",
       " <selenium.webdriver.remote.webelement.WebElement (session=\"53f89f8f395a681d60155f094eab4494\", element=\"d3876044-f8d9-41f9-a3da-6e1fe74703f2\")>,\n",
       " <selenium.webdriver.remote.webelement.WebElement (session=\"53f89f8f395a681d60155f094eab4494\", element=\"0ffaf9b2-3ad0-4a77-8cc7-16a7bba42df2\")>,\n",
       " <selenium.webdriver.remote.webelement.WebElement (session=\"53f89f8f395a681d60155f094eab4494\", element=\"a9ea7517-f7dc-4cae-bb30-b79f7f9e3f62\")>,\n",
       " <selenium.webdriver.remote.webelement.WebElement (session=\"53f89f8f395a681d60155f094eab4494\", element=\"22293240-09c5-484b-8dc0-f11433162243\")>,\n",
       " <selenium.webdriver.remote.webelement.WebElement (session=\"53f89f8f395a681d60155f094eab4494\", element=\"56012641-939a-45ab-ae9b-96fda622190a\")>,\n",
       " <selenium.webdriver.remote.webelement.WebElement (session=\"53f89f8f395a681d60155f094eab4494\", element=\"fa377a90-f4f7-4c24-8423-a9887ae90db8\")>,\n",
       " <selenium.webdriver.remote.webelement.WebElement (session=\"53f89f8f395a681d60155f094eab4494\", element=\"e09c3c97-7c41-49e7-8e44-7b74d51ce5af\")>,\n",
       " <selenium.webdriver.remote.webelement.WebElement (session=\"53f89f8f395a681d60155f094eab4494\", element=\"719d519f-bea3-4c3e-a80e-49d16887ecce\")>,\n",
       " <selenium.webdriver.remote.webelement.WebElement (session=\"53f89f8f395a681d60155f094eab4494\", element=\"f08b5f8e-a9ad-483f-b23c-b1c936011258\")>,\n",
       " <selenium.webdriver.remote.webelement.WebElement (session=\"53f89f8f395a681d60155f094eab4494\", element=\"2c6db9fc-b906-47e1-a44c-706fa4585f0f\")>,\n",
       " <selenium.webdriver.remote.webelement.WebElement (session=\"53f89f8f395a681d60155f094eab4494\", element=\"c383cee6-60f8-41d4-83fc-3ddb1596db52\")>,\n",
       " <selenium.webdriver.remote.webelement.WebElement (session=\"53f89f8f395a681d60155f094eab4494\", element=\"eedfaa34-5853-4698-8707-e341ccbe07ad\")>]"
      ]
     },
     "execution_count": 24,
     "metadata": {},
     "output_type": "execute_result"
    }
   ],
   "source": [
    "price_tags=driver.find_elements_by_xpath('//span[@class=\"a-price-whole\"]')\n",
    "price_tags"
   ]
  },
  {
   "cell_type": "code",
   "execution_count": 25,
   "id": "44bd65e1",
   "metadata": {},
   "outputs": [
    {
     "data": {
      "text/plain": [
       "['63,490',\n",
       " '50,990',\n",
       " '36,990',\n",
       " '29,490',\n",
       " '36,990',\n",
       " '89,999',\n",
       " '88,990',\n",
       " '55,000',\n",
       " '',\n",
       " '36,990']"
      ]
     },
     "execution_count": 25,
     "metadata": {},
     "output_type": "execute_result"
    }
   ],
   "source": [
    "prices = []\n",
    "for i in price_tags:\n",
    "    prices.append(i.text)\n",
    "prices1 = []\n",
    "for i in range(0,10):\n",
    "    prices1.append(prices[i])\n",
    "prices1"
   ]
  },
  {
   "cell_type": "code",
   "execution_count": 26,
   "id": "1b9479e5",
   "metadata": {},
   "outputs": [
    {
     "data": {
      "text/plain": [
       "[<selenium.webdriver.remote.webelement.WebElement (session=\"53f89f8f395a681d60155f094eab4494\", element=\"1b397e2c-835c-4c9d-9489-f2578dac0f5a\")>,\n",
       " <selenium.webdriver.remote.webelement.WebElement (session=\"53f89f8f395a681d60155f094eab4494\", element=\"f8003d7b-0186-45fa-bfd9-8a2b37e381ff\")>,\n",
       " <selenium.webdriver.remote.webelement.WebElement (session=\"53f89f8f395a681d60155f094eab4494\", element=\"dbd44a15-0549-450e-b504-212608b31aad\")>,\n",
       " <selenium.webdriver.remote.webelement.WebElement (session=\"53f89f8f395a681d60155f094eab4494\", element=\"50b14777-1cc9-4ea9-bd10-132d2402bb93\")>,\n",
       " <selenium.webdriver.remote.webelement.WebElement (session=\"53f89f8f395a681d60155f094eab4494\", element=\"4817349a-1d74-456a-b321-f5dc6d94ff5c\")>,\n",
       " <selenium.webdriver.remote.webelement.WebElement (session=\"53f89f8f395a681d60155f094eab4494\", element=\"3493c2ce-7d1a-4772-bf24-3867280c965d\")>,\n",
       " <selenium.webdriver.remote.webelement.WebElement (session=\"53f89f8f395a681d60155f094eab4494\", element=\"6c276fce-20fe-49da-a3f8-c4cc1968f84e\")>,\n",
       " <selenium.webdriver.remote.webelement.WebElement (session=\"53f89f8f395a681d60155f094eab4494\", element=\"bf43bc1e-1bdb-4bc0-9126-2b46fd9e9f07\")>,\n",
       " <selenium.webdriver.remote.webelement.WebElement (session=\"53f89f8f395a681d60155f094eab4494\", element=\"16ef000a-b964-4164-8dcf-14b7f07bd97b\")>,\n",
       " <selenium.webdriver.remote.webelement.WebElement (session=\"53f89f8f395a681d60155f094eab4494\", element=\"0b4b268a-818c-4365-a768-1735749f5aee\")>,\n",
       " <selenium.webdriver.remote.webelement.WebElement (session=\"53f89f8f395a681d60155f094eab4494\", element=\"1c4c1162-7ed6-47c5-9cf4-9d758b53cd16\")>,\n",
       " <selenium.webdriver.remote.webelement.WebElement (session=\"53f89f8f395a681d60155f094eab4494\", element=\"d385d6c8-ce85-4562-ba73-9137798da583\")>,\n",
       " <selenium.webdriver.remote.webelement.WebElement (session=\"53f89f8f395a681d60155f094eab4494\", element=\"a905ff4e-7371-4eaa-b288-346ed814257e\")>,\n",
       " <selenium.webdriver.remote.webelement.WebElement (session=\"53f89f8f395a681d60155f094eab4494\", element=\"33bdd02b-9278-4441-acab-ed27669784d0\")>,\n",
       " <selenium.webdriver.remote.webelement.WebElement (session=\"53f89f8f395a681d60155f094eab4494\", element=\"2d3694e3-ce8a-4b0d-a8be-e347723bcaf7\")>,\n",
       " <selenium.webdriver.remote.webelement.WebElement (session=\"53f89f8f395a681d60155f094eab4494\", element=\"54b26403-365f-4325-af40-cc219c593069\")>,\n",
       " <selenium.webdriver.remote.webelement.WebElement (session=\"53f89f8f395a681d60155f094eab4494\", element=\"b7b468e0-7176-4a8c-9563-ef4d8c68b273\")>,\n",
       " <selenium.webdriver.remote.webelement.WebElement (session=\"53f89f8f395a681d60155f094eab4494\", element=\"8207b23a-4e85-4898-a0a6-8b0671fb8dcb\")>,\n",
       " <selenium.webdriver.remote.webelement.WebElement (session=\"53f89f8f395a681d60155f094eab4494\", element=\"b412f9ed-1b0c-4a43-93fd-c559014f2c1e\")>,\n",
       " <selenium.webdriver.remote.webelement.WebElement (session=\"53f89f8f395a681d60155f094eab4494\", element=\"eb218d12-7f38-4d01-afc0-9d999021ba75\")>,\n",
       " <selenium.webdriver.remote.webelement.WebElement (session=\"53f89f8f395a681d60155f094eab4494\", element=\"c18fc3e3-5ab9-40ee-b939-7f6857f9e6f1\")>,\n",
       " <selenium.webdriver.remote.webelement.WebElement (session=\"53f89f8f395a681d60155f094eab4494\", element=\"86be6a82-e588-427e-8878-475e23b75f58\")>,\n",
       " <selenium.webdriver.remote.webelement.WebElement (session=\"53f89f8f395a681d60155f094eab4494\", element=\"01183917-7b70-49a8-9c51-234f36449ce8\")>,\n",
       " <selenium.webdriver.remote.webelement.WebElement (session=\"53f89f8f395a681d60155f094eab4494\", element=\"390d5c55-0281-4ca8-b2de-7a3019e5d6a5\")>,\n",
       " <selenium.webdriver.remote.webelement.WebElement (session=\"53f89f8f395a681d60155f094eab4494\", element=\"b312ccdf-4a16-4956-8c67-a8b2a68726c8\")>,\n",
       " <selenium.webdriver.remote.webelement.WebElement (session=\"53f89f8f395a681d60155f094eab4494\", element=\"5d81e33a-3317-4dde-b2b3-f45684723024\")>]"
      ]
     },
     "execution_count": 26,
     "metadata": {},
     "output_type": "execute_result"
    }
   ],
   "source": [
    "rating_tags=driver.find_elements_by_xpath('//span[@class=\"a-size-base s-underline-text\"]')\n",
    "rating_tags"
   ]
  },
  {
   "cell_type": "code",
   "execution_count": 27,
   "id": "db9c191e",
   "metadata": {},
   "outputs": [
    {
     "data": {
      "text/plain": [
       "['87', '18', '157', '517', '548', '85', '452', '1,742', '', '296']"
      ]
     },
     "execution_count": 27,
     "metadata": {},
     "output_type": "execute_result"
    }
   ],
   "source": [
    "ratings = []\n",
    "for i in rating_tags:\n",
    "    ratings.append(i.text)\n",
    "ratings1 = []\n",
    "for i in range(0,10):\n",
    "    ratings1.append(ratings[i])\n",
    "ratings1"
   ]
  },
  {
   "cell_type": "code",
   "execution_count": 28,
   "id": "e1ff92f7",
   "metadata": {},
   "outputs": [
    {
     "data": {
      "text/plain": [
       "(10, 10, 10)"
      ]
     },
     "execution_count": 28,
     "metadata": {},
     "output_type": "execute_result"
    }
   ],
   "source": [
    "len(lap_names1),len(prices1),len(ratings1)"
   ]
  },
  {
   "cell_type": "code",
   "execution_count": 29,
   "id": "f10ab899",
   "metadata": {},
   "outputs": [
    {
     "data": {
      "text/html": [
       "<div>\n",
       "<style scoped>\n",
       "    .dataframe tbody tr th:only-of-type {\n",
       "        vertical-align: middle;\n",
       "    }\n",
       "\n",
       "    .dataframe tbody tr th {\n",
       "        vertical-align: top;\n",
       "    }\n",
       "\n",
       "    .dataframe thead th {\n",
       "        text-align: right;\n",
       "    }\n",
       "</style>\n",
       "<table border=\"1\" class=\"dataframe\">\n",
       "  <thead>\n",
       "    <tr style=\"text-align: right;\">\n",
       "      <th></th>\n",
       "      <th>Names</th>\n",
       "      <th>Price</th>\n",
       "      <th>Ratings</th>\n",
       "    </tr>\n",
       "  </thead>\n",
       "  <tbody>\n",
       "    <tr>\n",
       "      <th>0</th>\n",
       "      <td>Microsoft Surface Go 10th Gen Intel Core i5-10...</td>\n",
       "      <td>63,490</td>\n",
       "      <td>87</td>\n",
       "    </tr>\n",
       "    <tr>\n",
       "      <th>1</th>\n",
       "      <td>Microsoft Surface GO 3 8VA-00013 10.5\" (26.67 ...</td>\n",
       "      <td>50,990</td>\n",
       "      <td>18</td>\n",
       "    </tr>\n",
       "    <tr>\n",
       "      <th>2</th>\n",
       "      <td>Lenovo IdeaPad 3 10th Gen Intel Core i3 15.6 H...</td>\n",
       "      <td>36,990</td>\n",
       "      <td>157</td>\n",
       "    </tr>\n",
       "    <tr>\n",
       "      <th>3</th>\n",
       "      <td>Lenovo IdeaPad 3 Intel Celeron N4020 14'' HD T...</td>\n",
       "      <td>29,490</td>\n",
       "      <td>517</td>\n",
       "    </tr>\n",
       "    <tr>\n",
       "      <th>4</th>\n",
       "      <td>Dell New Inspiron 3511 Laptop Intel i3-1115G4,...</td>\n",
       "      <td>36,990</td>\n",
       "      <td>548</td>\n",
       "    </tr>\n",
       "    <tr>\n",
       "      <th>5</th>\n",
       "      <td>ASUS ZenBook 14 (2020) Intel Core i5-1135G7 11...</td>\n",
       "      <td>89,999</td>\n",
       "      <td>85</td>\n",
       "    </tr>\n",
       "    <tr>\n",
       "      <th>6</th>\n",
       "      <td>HP 14 10th Gen Intel Core i5-10210U 14 inches ...</td>\n",
       "      <td>88,990</td>\n",
       "      <td>452</td>\n",
       "    </tr>\n",
       "    <tr>\n",
       "      <th>7</th>\n",
       "      <td></td>\n",
       "      <td>55,000</td>\n",
       "      <td>1,742</td>\n",
       "    </tr>\n",
       "    <tr>\n",
       "      <th>8</th>\n",
       "      <td>Lenovo IdeaPad Slim 3 10th Gen Intel Core i3 1...</td>\n",
       "      <td></td>\n",
       "      <td></td>\n",
       "    </tr>\n",
       "    <tr>\n",
       "      <th>9</th>\n",
       "      <td>HP Chromebook 14 Intel Celeron N4020-4GB SDRAM...</td>\n",
       "      <td>36,990</td>\n",
       "      <td>296</td>\n",
       "    </tr>\n",
       "  </tbody>\n",
       "</table>\n",
       "</div>"
      ],
      "text/plain": [
       "                                               Names   Price Ratings\n",
       "0  Microsoft Surface Go 10th Gen Intel Core i5-10...  63,490      87\n",
       "1  Microsoft Surface GO 3 8VA-00013 10.5\" (26.67 ...  50,990      18\n",
       "2  Lenovo IdeaPad 3 10th Gen Intel Core i3 15.6 H...  36,990     157\n",
       "3  Lenovo IdeaPad 3 Intel Celeron N4020 14'' HD T...  29,490     517\n",
       "4  Dell New Inspiron 3511 Laptop Intel i3-1115G4,...  36,990     548\n",
       "5  ASUS ZenBook 14 (2020) Intel Core i5-1135G7 11...  89,999      85\n",
       "6  HP 14 10th Gen Intel Core i5-10210U 14 inches ...  88,990     452\n",
       "7                                                     55,000   1,742\n",
       "8  Lenovo IdeaPad Slim 3 10th Gen Intel Core i3 1...                \n",
       "9  HP Chromebook 14 Intel Celeron N4020-4GB SDRAM...  36,990     296"
      ]
     },
     "execution_count": 29,
     "metadata": {},
     "output_type": "execute_result"
    }
   ],
   "source": [
    "laps= pd.DataFrame()\n",
    "laps['Names']= lap_names1\n",
    "laps['Price']= prices1\n",
    "laps['Ratings']= ratings1\n",
    "laps"
   ]
  },
  {
   "cell_type": "markdown",
   "id": "a42172a6",
   "metadata": {},
   "source": [
    "# 9.AMBITION BOX JOBS"
   ]
  },
  {
   "cell_type": "code",
   "execution_count": 94,
   "id": "7acc46f7",
   "metadata": {},
   "outputs": [],
   "source": [
    "import selenium\n",
    "from selenium import webdriver\n",
    "import pandas as pd\n",
    "import warnings\n",
    "warnings.filterwarnings(\"ignore\")"
   ]
  },
  {
   "cell_type": "code",
   "execution_count": 95,
   "id": "18058259",
   "metadata": {},
   "outputs": [
    {
     "data": {
      "text/plain": [
       "<selenium.webdriver.chrome.webdriver.WebDriver (session=\"93f8aee823599569119d5b1e404ce89f\")>"
      ]
     },
     "execution_count": 95,
     "metadata": {},
     "output_type": "execute_result"
    }
   ],
   "source": [
    "driver= webdriver.Chrome(r'C:/Users/bindu/Downloads/chromedriver_win32/chromedriver.exe')\n",
    "driver"
   ]
  },
  {
   "cell_type": "code",
   "execution_count": 96,
   "id": "e2e8c7b2",
   "metadata": {},
   "outputs": [],
   "source": [
    "url='https://www.ambitionbox.com/'\n",
    "driver.get(url)"
   ]
  },
  {
   "cell_type": "code",
   "execution_count": 97,
   "id": "96582a2f",
   "metadata": {},
   "outputs": [
    {
     "data": {
      "text/plain": [
       "<selenium.webdriver.remote.webelement.WebElement (session=\"93f8aee823599569119d5b1e404ce89f\", element=\"86b4d3fe-f821-42c2-9189-f739ee5aac59\")>"
      ]
     },
     "execution_count": 97,
     "metadata": {},
     "output_type": "execute_result"
    }
   ],
   "source": [
    "search_job=driver.find_element_by_xpath('/html/body/div/div/div/div[2]/div[1]/div/div/div/div/span/input')\n",
    "search_job"
   ]
  },
  {
   "cell_type": "code",
   "execution_count": 98,
   "id": "3565ed3a",
   "metadata": {},
   "outputs": [],
   "source": [
    "search_job.send_keys(\"Data Scientist\")"
   ]
  },
  {
   "cell_type": "code",
   "execution_count": 102,
   "id": "873ea9e2",
   "metadata": {},
   "outputs": [
    {
     "data": {
      "text/plain": [
       "[<selenium.webdriver.remote.webelement.WebElement (session=\"93f8aee823599569119d5b1e404ce89f\", element=\"09270326-203d-4e18-baea-d38e0644d251\")>,\n",
       " <selenium.webdriver.remote.webelement.WebElement (session=\"93f8aee823599569119d5b1e404ce89f\", element=\"67fb8eb0-9d7d-46c6-9bc7-1dc3e515a22b\")>,\n",
       " <selenium.webdriver.remote.webelement.WebElement (session=\"93f8aee823599569119d5b1e404ce89f\", element=\"814dc420-99ae-4ac0-88a0-5b697d1a90c1\")>,\n",
       " <selenium.webdriver.remote.webelement.WebElement (session=\"93f8aee823599569119d5b1e404ce89f\", element=\"e91b35f9-9a56-40d5-9d16-4112f6e797e6\")>,\n",
       " <selenium.webdriver.remote.webelement.WebElement (session=\"93f8aee823599569119d5b1e404ce89f\", element=\"456d211d-544c-464d-85bb-56cadef02310\")>,\n",
       " <selenium.webdriver.remote.webelement.WebElement (session=\"93f8aee823599569119d5b1e404ce89f\", element=\"79e241b8-f2ec-4902-bfd5-c30a27dd5ade\")>,\n",
       " <selenium.webdriver.remote.webelement.WebElement (session=\"93f8aee823599569119d5b1e404ce89f\", element=\"0bfde99e-693f-4186-9ca6-633e82b3ce6d\")>,\n",
       " <selenium.webdriver.remote.webelement.WebElement (session=\"93f8aee823599569119d5b1e404ce89f\", element=\"aa260545-6fc3-4661-b6c6-9a2768a18bef\")>,\n",
       " <selenium.webdriver.remote.webelement.WebElement (session=\"93f8aee823599569119d5b1e404ce89f\", element=\"88528f41-0ae5-4268-a0e9-8b0fd45d64a4\")>,\n",
       " <selenium.webdriver.remote.webelement.WebElement (session=\"93f8aee823599569119d5b1e404ce89f\", element=\"e3ee17fd-866e-4582-88d9-5a2856a51e1c\")>]"
      ]
     },
     "execution_count": 102,
     "metadata": {},
     "output_type": "execute_result"
    }
   ],
   "source": [
    "title_tags= driver.find_elements_by_xpath('//a[@class=\"title noclick\"]')\n",
    "len(title_tags)\n",
    "title_tags[0:10]"
   ]
  },
  {
   "cell_type": "code",
   "execution_count": 103,
   "id": "d1e97208",
   "metadata": {},
   "outputs": [
    {
     "data": {
      "text/plain": [
       "['Data Scientist',\n",
       " 'Data Scientist',\n",
       " 'Amazon - Senior Data Scientist (10-15 yrs)',\n",
       " 'JP Morgan Chase - Data Scientist - Risk Analytics - Derivatives Domain (0-4 yrs)',\n",
       " 'Forecasting Analyst/ Data Scientist (US Client)',\n",
       " 'Senior Data Scientist',\n",
       " 'JP Morgan Chase - Data Scientist (4-8 yrs)',\n",
       " 'Data Scientist - Manufacturing Intelligence',\n",
       " 'AVP / VP Data Scientist (Model Validation)',\n",
       " 'Data Scientist']"
      ]
     },
     "execution_count": 103,
     "metadata": {},
     "output_type": "execute_result"
    }
   ],
   "source": [
    "job_titles = []\n",
    "\n",
    "for i in title_tags:\n",
    "    job_titles.append(i.text)\n",
    "\n",
    "job_titles1= []\n",
    "for i in range(0, 10):\n",
    "    job_titles1.append(job_titles[i])\n",
    "    \n",
    "job_titles1"
   ]
  },
  {
   "cell_type": "code",
   "execution_count": 104,
   "id": "2756d7ce",
   "metadata": {},
   "outputs": [
    {
     "data": {
      "text/plain": [
       "[<selenium.webdriver.remote.webelement.WebElement (session=\"93f8aee823599569119d5b1e404ce89f\", element=\"94fb6a32-d38a-4e89-9479-0e1acddf6732\")>,\n",
       " <selenium.webdriver.remote.webelement.WebElement (session=\"93f8aee823599569119d5b1e404ce89f\", element=\"a102cad5-3f18-4978-9f65-b81c2ca24a0e\")>,\n",
       " <selenium.webdriver.remote.webelement.WebElement (session=\"93f8aee823599569119d5b1e404ce89f\", element=\"a84bb2fe-d7a2-43e9-bf76-d0a985718764\")>,\n",
       " <selenium.webdriver.remote.webelement.WebElement (session=\"93f8aee823599569119d5b1e404ce89f\", element=\"138a10c6-1525-4c00-b6fd-99cb55a89b9d\")>,\n",
       " <selenium.webdriver.remote.webelement.WebElement (session=\"93f8aee823599569119d5b1e404ce89f\", element=\"be0d93e3-5f17-4b64-b136-5a6c5524eb32\")>,\n",
       " <selenium.webdriver.remote.webelement.WebElement (session=\"93f8aee823599569119d5b1e404ce89f\", element=\"6323d4a4-2bd7-46b3-a2d9-520532c0745e\")>,\n",
       " <selenium.webdriver.remote.webelement.WebElement (session=\"93f8aee823599569119d5b1e404ce89f\", element=\"ede42544-dfa2-485f-afaf-436e22b20345\")>,\n",
       " <selenium.webdriver.remote.webelement.WebElement (session=\"93f8aee823599569119d5b1e404ce89f\", element=\"ce525ba8-f7b2-404e-8d26-32b2354dfbdb\")>,\n",
       " <selenium.webdriver.remote.webelement.WebElement (session=\"93f8aee823599569119d5b1e404ce89f\", element=\"4a1a276a-b717-4fab-835e-6e7d1811c5c6\")>,\n",
       " <selenium.webdriver.remote.webelement.WebElement (session=\"93f8aee823599569119d5b1e404ce89f\", element=\"b1a5eae1-e7e5-4c58-bc53-2698f1588c59\")>]"
      ]
     },
     "execution_count": 104,
     "metadata": {},
     "output_type": "execute_result"
    }
   ],
   "source": [
    "company_tags= driver.find_elements_by_xpath('//div[@class=\"company-info\"]')\n",
    "company_tags[0:10]"
   ]
  },
  {
   "cell_type": "code",
   "execution_count": 105,
   "id": "794e1626",
   "metadata": {},
   "outputs": [
    {
     "data": {
      "text/plain": [
       "['HP India Sales Private Limited\\n4.3\\n(3.1k Reviews)',\n",
       " 'Amazon Development Centre (India) Pvt. Ltd.\\n4.2\\n(10.6k Reviews)',\n",
       " 'Amazon\\n4.2\\n(10.6k Reviews)',\n",
       " 'JP Morgan Chase\\n4.1\\n(2.4k Reviews)',\n",
       " 'Concentrix Daksh Services India Private Limited.\\n4.1\\n(11.1k Reviews)',\n",
       " 'Walmart Labs\\n4.1\\n(7.3k Reviews)',\n",
       " 'JP Morgan Chase\\n4.1\\n(2.4k Reviews)',\n",
       " 'PFIZER LIMITED\\n4.2\\n(1.3k Reviews)',\n",
       " 'J.P. Morgan Services India Private Limited\\n4.1\\n(2.4k Reviews)',\n",
       " 'Shell India Markets Private Limited\\n4.2\\n(829 Reviews)']"
      ]
     },
     "execution_count": 105,
     "metadata": {},
     "output_type": "execute_result"
    }
   ],
   "source": [
    "company_names = []\n",
    "for i in company_tags:\n",
    "    company_names.append(i.text)\n",
    "\n",
    "company_names1= []\n",
    "for i in range(1, 11):\n",
    "    company_names1.append(company_names[i])\n",
    "    \n",
    "company_names1"
   ]
  },
  {
   "cell_type": "code",
   "execution_count": 106,
   "id": "9822b728",
   "metadata": {},
   "outputs": [
    {
     "data": {
      "text/plain": [
       "[<selenium.webdriver.remote.webelement.WebElement (session=\"93f8aee823599569119d5b1e404ce89f\", element=\"48bf4dbc-6a2e-446b-9693-1f93cf18109f\")>,\n",
       " <selenium.webdriver.remote.webelement.WebElement (session=\"93f8aee823599569119d5b1e404ce89f\", element=\"817383be-e497-404c-b1d0-36154d0e8226\")>,\n",
       " <selenium.webdriver.remote.webelement.WebElement (session=\"93f8aee823599569119d5b1e404ce89f\", element=\"e6486288-2e93-4d01-9294-fdb29e64898c\")>,\n",
       " <selenium.webdriver.remote.webelement.WebElement (session=\"93f8aee823599569119d5b1e404ce89f\", element=\"e140bf73-7ace-43d4-9346-38093b74c3ce\")>,\n",
       " <selenium.webdriver.remote.webelement.WebElement (session=\"93f8aee823599569119d5b1e404ce89f\", element=\"3e5acce1-e78e-49d2-9ed4-d5f2e7353765\")>,\n",
       " <selenium.webdriver.remote.webelement.WebElement (session=\"93f8aee823599569119d5b1e404ce89f\", element=\"604f2f9a-3d45-4471-a843-e1a306328b8c\")>,\n",
       " <selenium.webdriver.remote.webelement.WebElement (session=\"93f8aee823599569119d5b1e404ce89f\", element=\"9b6522d6-33a2-4466-8829-f847cd821388\")>,\n",
       " <selenium.webdriver.remote.webelement.WebElement (session=\"93f8aee823599569119d5b1e404ce89f\", element=\"fe04cacb-41e9-433c-ae59-9edf2427a74c\")>,\n",
       " <selenium.webdriver.remote.webelement.WebElement (session=\"93f8aee823599569119d5b1e404ce89f\", element=\"f6bcbfd3-5898-44fe-9b2c-c621db2acc90\")>,\n",
       " <selenium.webdriver.remote.webelement.WebElement (session=\"93f8aee823599569119d5b1e404ce89f\", element=\"91570495-d2a4-47c7-b4f7-8b6a0e12b547\")>,\n",
       " <selenium.webdriver.remote.webelement.WebElement (session=\"93f8aee823599569119d5b1e404ce89f\", element=\"dda4989e-5cc3-4f7f-9a47-1f092e6b6051\")>,\n",
       " <selenium.webdriver.remote.webelement.WebElement (session=\"93f8aee823599569119d5b1e404ce89f\", element=\"d408d4c0-8c7c-46d1-80e4-dd304da8e6be\")>,\n",
       " <selenium.webdriver.remote.webelement.WebElement (session=\"93f8aee823599569119d5b1e404ce89f\", element=\"2dcec1df-b692-480c-89da-172069dcd677\")>,\n",
       " <selenium.webdriver.remote.webelement.WebElement (session=\"93f8aee823599569119d5b1e404ce89f\", element=\"601fc92d-cc26-4129-affd-8f3e9b726339\")>]"
      ]
     },
     "execution_count": 106,
     "metadata": {},
     "output_type": "execute_result"
    }
   ],
   "source": [
    "rating_tags=driver.find_elements_by_class_name(\"rating-wrapper\")\n",
    "rating_tags"
   ]
  },
  {
   "cell_type": "code",
   "execution_count": 107,
   "id": "c0057559",
   "metadata": {},
   "outputs": [
    {
     "data": {
      "text/plain": [
       "['4.3\\n(3.1k Reviews)',\n",
       " '4.2\\n(10.6k Reviews)',\n",
       " '4.2\\n(10.6k Reviews)',\n",
       " '4.1\\n(2.4k Reviews)',\n",
       " '4.1\\n(11.1k Reviews)',\n",
       " '4.1\\n(7.3k Reviews)',\n",
       " '4.1\\n(2.4k Reviews)',\n",
       " '4.2\\n(1.3k Reviews)',\n",
       " '4.1\\n(2.4k Reviews)',\n",
       " '4.2\\n(829 Reviews)']"
      ]
     },
     "execution_count": 107,
     "metadata": {},
     "output_type": "execute_result"
    }
   ],
   "source": [
    "job_ratings= []\n",
    "for i in rating_tags:\n",
    "    job_ratings.append(i.text)\n",
    "\n",
    "job_ratings1= []\n",
    "for i in range(4, 14):\n",
    "    job_ratings1.append(job_ratings[i])\n",
    "    \n",
    "job_ratings1"
   ]
  },
  {
   "cell_type": "code",
   "execution_count": 108,
   "id": "78e903c8",
   "metadata": {},
   "outputs": [
    {
     "data": {
      "text/plain": [
       "(10, 10, 10)"
      ]
     },
     "execution_count": 108,
     "metadata": {},
     "output_type": "execute_result"
    }
   ],
   "source": [
    "len(job_titles1),len(company_names1),len(job_ratings1),"
   ]
  },
  {
   "cell_type": "code",
   "execution_count": 109,
   "id": "bdaa6c30",
   "metadata": {},
   "outputs": [
    {
     "data": {
      "text/html": [
       "<div>\n",
       "<style scoped>\n",
       "    .dataframe tbody tr th:only-of-type {\n",
       "        vertical-align: middle;\n",
       "    }\n",
       "\n",
       "    .dataframe tbody tr th {\n",
       "        vertical-align: top;\n",
       "    }\n",
       "\n",
       "    .dataframe thead th {\n",
       "        text-align: right;\n",
       "    }\n",
       "</style>\n",
       "<table border=\"1\" class=\"dataframe\">\n",
       "  <thead>\n",
       "    <tr style=\"text-align: right;\">\n",
       "      <th></th>\n",
       "      <th>Job Title</th>\n",
       "      <th>Company</th>\n",
       "      <th>Ratings</th>\n",
       "    </tr>\n",
       "  </thead>\n",
       "  <tbody>\n",
       "    <tr>\n",
       "      <th>0</th>\n",
       "      <td>Data Scientist</td>\n",
       "      <td>HP India Sales Private Limited\\n4.3\\n(3.1k Rev...</td>\n",
       "      <td>4.3\\n(3.1k Reviews)</td>\n",
       "    </tr>\n",
       "    <tr>\n",
       "      <th>1</th>\n",
       "      <td>Data Scientist</td>\n",
       "      <td>Amazon Development Centre (India) Pvt. Ltd.\\n4...</td>\n",
       "      <td>4.2\\n(10.6k Reviews)</td>\n",
       "    </tr>\n",
       "    <tr>\n",
       "      <th>2</th>\n",
       "      <td>Amazon - Senior Data Scientist (10-15 yrs)</td>\n",
       "      <td>Amazon\\n4.2\\n(10.6k Reviews)</td>\n",
       "      <td>4.2\\n(10.6k Reviews)</td>\n",
       "    </tr>\n",
       "    <tr>\n",
       "      <th>3</th>\n",
       "      <td>JP Morgan Chase - Data Scientist - Risk Analyt...</td>\n",
       "      <td>JP Morgan Chase\\n4.1\\n(2.4k Reviews)</td>\n",
       "      <td>4.1\\n(2.4k Reviews)</td>\n",
       "    </tr>\n",
       "    <tr>\n",
       "      <th>4</th>\n",
       "      <td>Forecasting Analyst/ Data Scientist (US Client)</td>\n",
       "      <td>Concentrix Daksh Services India Private Limite...</td>\n",
       "      <td>4.1\\n(11.1k Reviews)</td>\n",
       "    </tr>\n",
       "    <tr>\n",
       "      <th>5</th>\n",
       "      <td>Senior Data Scientist</td>\n",
       "      <td>Walmart Labs\\n4.1\\n(7.3k Reviews)</td>\n",
       "      <td>4.1\\n(7.3k Reviews)</td>\n",
       "    </tr>\n",
       "    <tr>\n",
       "      <th>6</th>\n",
       "      <td>JP Morgan Chase - Data Scientist (4-8 yrs)</td>\n",
       "      <td>JP Morgan Chase\\n4.1\\n(2.4k Reviews)</td>\n",
       "      <td>4.1\\n(2.4k Reviews)</td>\n",
       "    </tr>\n",
       "    <tr>\n",
       "      <th>7</th>\n",
       "      <td>Data Scientist - Manufacturing Intelligence</td>\n",
       "      <td>PFIZER LIMITED\\n4.2\\n(1.3k Reviews)</td>\n",
       "      <td>4.2\\n(1.3k Reviews)</td>\n",
       "    </tr>\n",
       "    <tr>\n",
       "      <th>8</th>\n",
       "      <td>AVP / VP Data Scientist (Model Validation)</td>\n",
       "      <td>J.P. Morgan Services India Private Limited\\n4....</td>\n",
       "      <td>4.1\\n(2.4k Reviews)</td>\n",
       "    </tr>\n",
       "    <tr>\n",
       "      <th>9</th>\n",
       "      <td>Data Scientist</td>\n",
       "      <td>Shell India Markets Private Limited\\n4.2\\n(829...</td>\n",
       "      <td>4.2\\n(829 Reviews)</td>\n",
       "    </tr>\n",
       "  </tbody>\n",
       "</table>\n",
       "</div>"
      ],
      "text/plain": [
       "                                           Job Title  \\\n",
       "0                                     Data Scientist   \n",
       "1                                     Data Scientist   \n",
       "2         Amazon - Senior Data Scientist (10-15 yrs)   \n",
       "3  JP Morgan Chase - Data Scientist - Risk Analyt...   \n",
       "4    Forecasting Analyst/ Data Scientist (US Client)   \n",
       "5                              Senior Data Scientist   \n",
       "6         JP Morgan Chase - Data Scientist (4-8 yrs)   \n",
       "7        Data Scientist - Manufacturing Intelligence   \n",
       "8         AVP / VP Data Scientist (Model Validation)   \n",
       "9                                     Data Scientist   \n",
       "\n",
       "                                             Company               Ratings  \n",
       "0  HP India Sales Private Limited\\n4.3\\n(3.1k Rev...   4.3\\n(3.1k Reviews)  \n",
       "1  Amazon Development Centre (India) Pvt. Ltd.\\n4...  4.2\\n(10.6k Reviews)  \n",
       "2                       Amazon\\n4.2\\n(10.6k Reviews)  4.2\\n(10.6k Reviews)  \n",
       "3               JP Morgan Chase\\n4.1\\n(2.4k Reviews)   4.1\\n(2.4k Reviews)  \n",
       "4  Concentrix Daksh Services India Private Limite...  4.1\\n(11.1k Reviews)  \n",
       "5                  Walmart Labs\\n4.1\\n(7.3k Reviews)   4.1\\n(7.3k Reviews)  \n",
       "6               JP Morgan Chase\\n4.1\\n(2.4k Reviews)   4.1\\n(2.4k Reviews)  \n",
       "7                PFIZER LIMITED\\n4.2\\n(1.3k Reviews)   4.2\\n(1.3k Reviews)  \n",
       "8  J.P. Morgan Services India Private Limited\\n4....   4.1\\n(2.4k Reviews)  \n",
       "9  Shell India Markets Private Limited\\n4.2\\n(829...    4.2\\n(829 Reviews)  "
      ]
     },
     "execution_count": 109,
     "metadata": {},
     "output_type": "execute_result"
    }
   ],
   "source": [
    "jobs= pd.DataFrame()\n",
    "jobs['Job Title']= job_titles1\n",
    "jobs['Company']= company_names1\n",
    "jobs['Ratings']= job_ratings1\n",
    "jobs"
   ]
  },
  {
   "cell_type": "markdown",
   "id": "1e2f5ff0",
   "metadata": {},
   "source": [
    "# 10.AMBITION BOX SALARIES"
   ]
  },
  {
   "cell_type": "code",
   "execution_count": 44,
   "id": "f88456af",
   "metadata": {},
   "outputs": [],
   "source": [
    "import selenium\n",
    "from selenium import webdriver\n",
    "import pandas as pd\n",
    "import warnings\n",
    "warnings.filterwarnings(\"ignore\")"
   ]
  },
  {
   "cell_type": "code",
   "execution_count": 45,
   "id": "be7b262a",
   "metadata": {},
   "outputs": [
    {
     "data": {
      "text/plain": [
       "<selenium.webdriver.chrome.webdriver.WebDriver (session=\"ad342aff05817f6a1a67519bb58747fe\")>"
      ]
     },
     "execution_count": 45,
     "metadata": {},
     "output_type": "execute_result"
    }
   ],
   "source": [
    "driver= webdriver.Chrome(r'C:/Users/bindu/Downloads/chromedriver_win32/chromedriver.exe')\n",
    "driver"
   ]
  },
  {
   "cell_type": "code",
   "execution_count": 46,
   "id": "89b82500",
   "metadata": {},
   "outputs": [],
   "source": [
    "url='https://www.ambitionbox.com/'\n",
    "driver.get(url)"
   ]
  },
  {
   "cell_type": "code",
   "execution_count": 47,
   "id": "4d1f6090",
   "metadata": {},
   "outputs": [
    {
     "data": {
      "text/plain": [
       "<selenium.webdriver.remote.webelement.WebElement (session=\"ad342aff05817f6a1a67519bb58747fe\", element=\"5406c44d-39b8-4619-a2fa-b1133a1d4710\")>"
      ]
     },
     "execution_count": 47,
     "metadata": {},
     "output_type": "execute_result"
    }
   ],
   "source": [
    "search_job=driver.find_element_by_xpath('/html/body/div/div/div/main/section[1]/div[2]/div[1]/input')\n",
    "search_job"
   ]
  },
  {
   "cell_type": "code",
   "execution_count": 48,
   "id": "ab4afc3b",
   "metadata": {},
   "outputs": [],
   "source": [
    "search_job.send_keys(\"Data Scientist\")"
   ]
  },
  {
   "cell_type": "code",
   "execution_count": 49,
   "id": "99630908",
   "metadata": {},
   "outputs": [],
   "source": [
    "search_job.click()"
   ]
  },
  {
   "cell_type": "code",
   "execution_count": 50,
   "id": "6c3439e2",
   "metadata": {},
   "outputs": [
    {
     "data": {
      "text/plain": [
       "[<selenium.webdriver.remote.webelement.WebElement (session=\"ad342aff05817f6a1a67519bb58747fe\", element=\"f82f7b92-4f8c-4d8b-8566-b93369af4469\")>,\n",
       " <selenium.webdriver.remote.webelement.WebElement (session=\"ad342aff05817f6a1a67519bb58747fe\", element=\"e0be865f-002d-42f2-83f6-3662e62af56b\")>,\n",
       " <selenium.webdriver.remote.webelement.WebElement (session=\"ad342aff05817f6a1a67519bb58747fe\", element=\"370f5916-d24f-463f-9eaf-306201c79d0b\")>,\n",
       " <selenium.webdriver.remote.webelement.WebElement (session=\"ad342aff05817f6a1a67519bb58747fe\", element=\"aba67361-bfbb-45ba-b083-70bebe236925\")>,\n",
       " <selenium.webdriver.remote.webelement.WebElement (session=\"ad342aff05817f6a1a67519bb58747fe\", element=\"bc22e10e-e015-45fb-9602-6ea47c12f1c4\")>,\n",
       " <selenium.webdriver.remote.webelement.WebElement (session=\"ad342aff05817f6a1a67519bb58747fe\", element=\"d661b893-ec45-4103-9a18-42e3cf92b689\")>,\n",
       " <selenium.webdriver.remote.webelement.WebElement (session=\"ad342aff05817f6a1a67519bb58747fe\", element=\"fe49801e-4086-4669-9d4b-afbf7155feb3\")>,\n",
       " <selenium.webdriver.remote.webelement.WebElement (session=\"ad342aff05817f6a1a67519bb58747fe\", element=\"96938f48-7812-4ca2-a223-a35dec51421c\")>,\n",
       " <selenium.webdriver.remote.webelement.WebElement (session=\"ad342aff05817f6a1a67519bb58747fe\", element=\"de63abce-3c99-4655-8bdf-342630e55567\")>,\n",
       " <selenium.webdriver.remote.webelement.WebElement (session=\"ad342aff05817f6a1a67519bb58747fe\", element=\"2f934a81-d5ae-40f9-a358-e65ebeafec59\")>,\n",
       " <selenium.webdriver.remote.webelement.WebElement (session=\"ad342aff05817f6a1a67519bb58747fe\", element=\"7199c789-20fa-44fe-a473-edd7521f5df6\")>,\n",
       " <selenium.webdriver.remote.webelement.WebElement (session=\"ad342aff05817f6a1a67519bb58747fe\", element=\"151df726-049b-49e3-aff1-b657ac5c929f\")>,\n",
       " <selenium.webdriver.remote.webelement.WebElement (session=\"ad342aff05817f6a1a67519bb58747fe\", element=\"952739bd-2a86-4410-b85d-423c6f6ea227\")>,\n",
       " <selenium.webdriver.remote.webelement.WebElement (session=\"ad342aff05817f6a1a67519bb58747fe\", element=\"57a87c7d-6973-4dca-b99c-bdee0ba41c01\")>,\n",
       " <selenium.webdriver.remote.webelement.WebElement (session=\"ad342aff05817f6a1a67519bb58747fe\", element=\"5de274f9-b5d1-4e9b-a91d-59bb1f77e6a0\")>,\n",
       " <selenium.webdriver.remote.webelement.WebElement (session=\"ad342aff05817f6a1a67519bb58747fe\", element=\"0f525376-8eb0-4e90-be1d-d027a7c48214\")>,\n",
       " <selenium.webdriver.remote.webelement.WebElement (session=\"ad342aff05817f6a1a67519bb58747fe\", element=\"f7b991f7-1745-4252-b066-47c1d4ae26ce\")>,\n",
       " <selenium.webdriver.remote.webelement.WebElement (session=\"ad342aff05817f6a1a67519bb58747fe\", element=\"1bdfca7d-ce4e-4a6f-a596-702add712717\")>,\n",
       " <selenium.webdriver.remote.webelement.WebElement (session=\"ad342aff05817f6a1a67519bb58747fe\", element=\"db90d283-40cc-4d08-9b27-c719fc7d6cf6\")>,\n",
       " <selenium.webdriver.remote.webelement.WebElement (session=\"ad342aff05817f6a1a67519bb58747fe\", element=\"b2747843-544a-4dd8-a500-fb1d5d7f4ed1\")>,\n",
       " <selenium.webdriver.remote.webelement.WebElement (session=\"ad342aff05817f6a1a67519bb58747fe\", element=\"eeaf3118-f2e5-4309-b34c-1d613dc861cc\")>,\n",
       " <selenium.webdriver.remote.webelement.WebElement (session=\"ad342aff05817f6a1a67519bb58747fe\", element=\"bea43078-8760-4d04-b0d6-df8213c5a3c9\")>,\n",
       " <selenium.webdriver.remote.webelement.WebElement (session=\"ad342aff05817f6a1a67519bb58747fe\", element=\"554b4e55-5cef-4c6d-97e9-8e1547c90971\")>,\n",
       " <selenium.webdriver.remote.webelement.WebElement (session=\"ad342aff05817f6a1a67519bb58747fe\", element=\"3ea1bc3d-5e3f-4710-a35e-b9d891b323d2\")>,\n",
       " <selenium.webdriver.remote.webelement.WebElement (session=\"ad342aff05817f6a1a67519bb58747fe\", element=\"30ee86e6-2635-442d-840b-701687946f04\")>]"
      ]
     },
     "execution_count": 50,
     "metadata": {},
     "output_type": "execute_result"
    }
   ],
   "source": [
    "company_tags= driver.find_elements_by_class_name('name')\n",
    "company_tags"
   ]
  },
  {
   "cell_type": "code",
   "execution_count": 51,
   "id": "489d791d",
   "metadata": {},
   "outputs": [
    {
     "data": {
      "text/plain": [
       "['Google',\n",
       " 'Microsoft Corporation',\n",
       " 'Goldman Sachs',\n",
       " 'Tekion',\n",
       " 'Flipkart',\n",
       " 'PayPal',\n",
       " 'Servicenow Software Development India',\n",
       " 'Amazon',\n",
       " 'Walmart',\n",
       " 'Arcesium']"
      ]
     },
     "execution_count": 51,
     "metadata": {},
     "output_type": "execute_result"
    }
   ],
   "source": [
    "company_names = []\n",
    "for i in company_tags:\n",
    "    company_names.append(i.text)\n",
    "company_names\n",
    "company_names1= []\n",
    "for i in range(0, 10):\n",
    "    company_names1.append(company_names[i])\n",
    "company_names1"
   ]
  },
  {
   "cell_type": "code",
   "execution_count": 52,
   "id": "ce027342",
   "metadata": {},
   "outputs": [
    {
     "data": {
      "text/plain": [
       "[<selenium.webdriver.remote.webelement.WebElement (session=\"ad342aff05817f6a1a67519bb58747fe\", element=\"e6c5f18b-c1db-4052-bf16-b495606fd3af\")>,\n",
       " <selenium.webdriver.remote.webelement.WebElement (session=\"ad342aff05817f6a1a67519bb58747fe\", element=\"4d54198a-ce84-465a-8ecf-8b48cbdae8a4\")>,\n",
       " <selenium.webdriver.remote.webelement.WebElement (session=\"ad342aff05817f6a1a67519bb58747fe\", element=\"330fa820-705b-4083-b0d7-589992f12af3\")>,\n",
       " <selenium.webdriver.remote.webelement.WebElement (session=\"ad342aff05817f6a1a67519bb58747fe\", element=\"1664fd29-1dd5-4e1d-a345-dc649b5649b8\")>,\n",
       " <selenium.webdriver.remote.webelement.WebElement (session=\"ad342aff05817f6a1a67519bb58747fe\", element=\"1426901b-f2be-402a-aaad-c543e1ebd71b\")>,\n",
       " <selenium.webdriver.remote.webelement.WebElement (session=\"ad342aff05817f6a1a67519bb58747fe\", element=\"88f99551-8b8e-4b01-8f13-d776508508b0\")>,\n",
       " <selenium.webdriver.remote.webelement.WebElement (session=\"ad342aff05817f6a1a67519bb58747fe\", element=\"d1ef5ff6-0855-4e39-8500-3312c42b64c8\")>,\n",
       " <selenium.webdriver.remote.webelement.WebElement (session=\"ad342aff05817f6a1a67519bb58747fe\", element=\"1fb7e5d5-863e-408e-b5ea-5480b5912daa\")>,\n",
       " <selenium.webdriver.remote.webelement.WebElement (session=\"ad342aff05817f6a1a67519bb58747fe\", element=\"e572c52a-77f9-4407-9593-cde490913792\")>,\n",
       " <selenium.webdriver.remote.webelement.WebElement (session=\"ad342aff05817f6a1a67519bb58747fe\", element=\"d7573511-243b-4f3e-bd14-5df6f5cecbf2\")>]"
      ]
     },
     "execution_count": 52,
     "metadata": {},
     "output_type": "execute_result"
    }
   ],
   "source": [
    "exp_tags=driver.find_elements_by_xpath('//div[@class=\"salaries sbold-list-header\"]')\n",
    "exp_tags"
   ]
  },
  {
   "cell_type": "code",
   "execution_count": 53,
   "id": "b0ca11c7",
   "metadata": {},
   "outputs": [
    {
     "data": {
      "text/plain": [
       "['1 yr exp',\n",
       " '1-4 yrs exp',\n",
       " '2 yrs exp',\n",
       " '3-4 yrs exp',\n",
       " '1-4 yrs exp',\n",
       " '1-2 yrs exp',\n",
       " '2-4 yrs exp',\n",
       " '1-4 yrs exp',\n",
       " '1-4 yrs exp',\n",
       " '1-2 yrs exp']"
      ]
     },
     "execution_count": 53,
     "metadata": {},
     "output_type": "execute_result"
    }
   ],
   "source": [
    "experience= []\n",
    "for i in exp_tags:\n",
    "    experience.append(i.text)\n",
    "experience\n",
    "experience1= []\n",
    "for i in range(0, 10):\n",
    "    experience1.append(experience[i])\n",
    "experience1"
   ]
  },
  {
   "cell_type": "code",
   "execution_count": 54,
   "id": "eaf29d1c",
   "metadata": {},
   "outputs": [
    {
     "data": {
      "text/plain": [
       "[<selenium.webdriver.remote.webelement.WebElement (session=\"ad342aff05817f6a1a67519bb58747fe\", element=\"1253290d-a7cb-47b2-8476-9dcc849b39e2\")>,\n",
       " <selenium.webdriver.remote.webelement.WebElement (session=\"ad342aff05817f6a1a67519bb58747fe\", element=\"1218d439-5fd1-4d32-b8e6-676fe290112c\")>,\n",
       " <selenium.webdriver.remote.webelement.WebElement (session=\"ad342aff05817f6a1a67519bb58747fe\", element=\"8c0caaee-4d53-4cde-a3b8-084c881d9f27\")>,\n",
       " <selenium.webdriver.remote.webelement.WebElement (session=\"ad342aff05817f6a1a67519bb58747fe\", element=\"14555026-23be-4691-ac01-93efdb06207a\")>,\n",
       " <selenium.webdriver.remote.webelement.WebElement (session=\"ad342aff05817f6a1a67519bb58747fe\", element=\"281af976-f2e4-4870-b142-2816d9741b67\")>,\n",
       " <selenium.webdriver.remote.webelement.WebElement (session=\"ad342aff05817f6a1a67519bb58747fe\", element=\"ddea8a55-aa08-41cf-a981-566d0ea7b5d0\")>,\n",
       " <selenium.webdriver.remote.webelement.WebElement (session=\"ad342aff05817f6a1a67519bb58747fe\", element=\"25e3c1a6-b6d1-4dcc-a30e-96231e823980\")>,\n",
       " <selenium.webdriver.remote.webelement.WebElement (session=\"ad342aff05817f6a1a67519bb58747fe\", element=\"7c28c16e-05d8-4cc4-adbe-b865e4e8a141\")>,\n",
       " <selenium.webdriver.remote.webelement.WebElement (session=\"ad342aff05817f6a1a67519bb58747fe\", element=\"a721514c-2cae-442e-9ab1-896d04c629cd\")>,\n",
       " <selenium.webdriver.remote.webelement.WebElement (session=\"ad342aff05817f6a1a67519bb58747fe\", element=\"3e925667-6be4-434e-994d-b7322f720427\")>]"
      ]
     },
     "execution_count": 54,
     "metadata": {},
     "output_type": "execute_result"
    }
   ],
   "source": [
    "sal_tags=driver.find_elements_by_xpath('//div[@class=\"result-col salary-values\"]')\n",
    "sal_tags"
   ]
  },
  {
   "cell_type": "code",
   "execution_count": 56,
   "id": "fca8a9e8",
   "metadata": {},
   "outputs": [
    {
     "data": {
      "text/plain": [
       "['₹ 26.6 Lpa\\n(₹10.4 - ₹40) Lpa',\n",
       " '₹ 23.3 Lpa\\n(₹13 - ₹45) Lpa',\n",
       " '₹ 21.2 Lpa\\n(₹12 - ₹30) Lpa',\n",
       " '₹ 21.1 Lpa\\n(₹12.5 - ₹32) Lpa',\n",
       " '₹ 21.1 Lpa\\n(₹7.5 - ₹31) Lpa',\n",
       " '₹ 20.1 Lpa\\n(₹12 - ₹30) Lpa',\n",
       " '₹ 19.6 Lpa\\n(₹12 - ₹26) Lpa',\n",
       " '₹ 19.4 Lpa\\n(₹8 - ₹43) Lpa',\n",
       " '₹ 19.1 Lpa\\n(₹10.1 - ₹32.5) Lpa',\n",
       " '₹ 18.7 Lpa\\n(₹12 - ₹30) Lpa']"
      ]
     },
     "execution_count": 56,
     "metadata": {},
     "output_type": "execute_result"
    }
   ],
   "source": [
    "sal_record= []\n",
    "for i in sal_tags:\n",
    "    sal_record.append(i.text)\n",
    "sal_record1= []\n",
    "for i in range(0, 10):\n",
    "    sal_record1.append(sal_record[i])\n",
    "sal_record1"
   ]
  },
  {
   "cell_type": "code",
   "execution_count": 57,
   "id": "b83e2982",
   "metadata": {},
   "outputs": [
    {
     "data": {
      "text/plain": [
       "[<selenium.webdriver.remote.webelement.WebElement (session=\"ad342aff05817f6a1a67519bb58747fe\", element=\"009783d0-77c3-4dfb-94ad-9e44b1b1800d\")>,\n",
       " <selenium.webdriver.remote.webelement.WebElement (session=\"ad342aff05817f6a1a67519bb58747fe\", element=\"957d0892-3052-4956-99ab-dfbbd05f33ce\")>,\n",
       " <selenium.webdriver.remote.webelement.WebElement (session=\"ad342aff05817f6a1a67519bb58747fe\", element=\"29871c1e-4b0c-4b9f-96c9-1a240a121581\")>,\n",
       " <selenium.webdriver.remote.webelement.WebElement (session=\"ad342aff05817f6a1a67519bb58747fe\", element=\"feef62b3-76bb-489d-9318-8600d85679bc\")>,\n",
       " <selenium.webdriver.remote.webelement.WebElement (session=\"ad342aff05817f6a1a67519bb58747fe\", element=\"c20c3d9e-3bb7-442b-ad2a-042e0aa7a972\")>,\n",
       " <selenium.webdriver.remote.webelement.WebElement (session=\"ad342aff05817f6a1a67519bb58747fe\", element=\"2fd8019e-3017-4985-b654-9843aa78f521\")>,\n",
       " <selenium.webdriver.remote.webelement.WebElement (session=\"ad342aff05817f6a1a67519bb58747fe\", element=\"ec56ff79-51bc-43c6-bbfd-f0729b946034\")>,\n",
       " <selenium.webdriver.remote.webelement.WebElement (session=\"ad342aff05817f6a1a67519bb58747fe\", element=\"8f48a991-5f7f-4125-805b-d9f35a5dc1c1\")>,\n",
       " <selenium.webdriver.remote.webelement.WebElement (session=\"ad342aff05817f6a1a67519bb58747fe\", element=\"903e5552-1e0d-4e43-93a6-a7436a5e6374\")>,\n",
       " <selenium.webdriver.remote.webelement.WebElement (session=\"ad342aff05817f6a1a67519bb58747fe\", element=\"4a94129a-cc21-4e63-a183-323765c9ade4\")>]"
      ]
     },
     "execution_count": 57,
     "metadata": {},
     "output_type": "execute_result"
    }
   ],
   "source": [
    "avg_tags=driver.find_elements_by_xpath('//p[@class=\"average\"]')\n",
    "avg_tags"
   ]
  },
  {
   "cell_type": "code",
   "execution_count": 58,
   "id": "d798bf15",
   "metadata": {},
   "outputs": [
    {
     "data": {
      "text/plain": [
       "['₹ 26.6 Lpa',\n",
       " '₹ 23.3 Lpa',\n",
       " '₹ 21.2 Lpa',\n",
       " '₹ 21.1 Lpa',\n",
       " '₹ 21.1 Lpa',\n",
       " '₹ 20.1 Lpa',\n",
       " '₹ 19.6 Lpa',\n",
       " '₹ 19.4 Lpa',\n",
       " '₹ 19.1 Lpa',\n",
       " '₹ 18.7 Lpa']"
      ]
     },
     "execution_count": 58,
     "metadata": {},
     "output_type": "execute_result"
    }
   ],
   "source": [
    "avg_sal= []\n",
    "for i in avg_tags:\n",
    "    avg_sal.append(i.text)\n",
    "avg_sal\n",
    "avg_sal1= []\n",
    "for i in range(0, 10):\n",
    "    avg_sal1.append(avg_sal[i])\n",
    "avg_sal1\n"
   ]
  },
  {
   "cell_type": "code",
   "execution_count": 59,
   "id": "0a1783c1",
   "metadata": {},
   "outputs": [
    {
     "data": {
      "text/plain": [
       "[<selenium.webdriver.remote.webelement.WebElement (session=\"ad342aff05817f6a1a67519bb58747fe\", element=\"6b6c2a35-d12d-4ac9-82da-8a4dfa1e6aac\")>,\n",
       " <selenium.webdriver.remote.webelement.WebElement (session=\"ad342aff05817f6a1a67519bb58747fe\", element=\"3a942110-a2a9-46b4-b98d-ed2dc272f76a\")>,\n",
       " <selenium.webdriver.remote.webelement.WebElement (session=\"ad342aff05817f6a1a67519bb58747fe\", element=\"c760ce8b-1e73-4744-9c2e-2c1d9ac92611\")>,\n",
       " <selenium.webdriver.remote.webelement.WebElement (session=\"ad342aff05817f6a1a67519bb58747fe\", element=\"7c65bf86-b08a-4be1-b02f-198f96b44708\")>,\n",
       " <selenium.webdriver.remote.webelement.WebElement (session=\"ad342aff05817f6a1a67519bb58747fe\", element=\"66ef8c85-a824-49b1-8db6-bb9f333dddb4\")>,\n",
       " <selenium.webdriver.remote.webelement.WebElement (session=\"ad342aff05817f6a1a67519bb58747fe\", element=\"a36930d2-189e-48cc-a813-1d28d0b87481\")>,\n",
       " <selenium.webdriver.remote.webelement.WebElement (session=\"ad342aff05817f6a1a67519bb58747fe\", element=\"4ec80efa-0f2a-4e31-bbc4-c52a995122c0\")>,\n",
       " <selenium.webdriver.remote.webelement.WebElement (session=\"ad342aff05817f6a1a67519bb58747fe\", element=\"8c69d92f-4577-4620-a4d0-d39f5efa32e0\")>,\n",
       " <selenium.webdriver.remote.webelement.WebElement (session=\"ad342aff05817f6a1a67519bb58747fe\", element=\"f79d98fc-0bdf-47f1-8dc0-8ffab581d43a\")>,\n",
       " <selenium.webdriver.remote.webelement.WebElement (session=\"ad342aff05817f6a1a67519bb58747fe\", element=\"a511344b-cef0-40fc-8a1d-eaf64236c272\")>]"
      ]
     },
     "execution_count": 59,
     "metadata": {},
     "output_type": "execute_result"
    }
   ],
   "source": [
    "msal_tags=driver.find_elements_by_xpath('//p[@class=\"range caption-subdued-medium\"]')\n",
    "msal_tags"
   ]
  },
  {
   "cell_type": "code",
   "execution_count": 60,
   "id": "0cbeddd3",
   "metadata": {},
   "outputs": [
    {
     "data": {
      "text/plain": [
       "['(₹10.4 - ₹40) Lpa',\n",
       " '(₹13 - ₹45) Lpa',\n",
       " '(₹12 - ₹30) Lpa',\n",
       " '(₹12.5 - ₹32) Lpa',\n",
       " '(₹7.5 - ₹31) Lpa',\n",
       " '(₹12 - ₹30) Lpa',\n",
       " '(₹12 - ₹26) Lpa',\n",
       " '(₹8 - ₹43) Lpa',\n",
       " '(₹10.1 - ₹32.5) Lpa',\n",
       " '(₹12 - ₹30) Lpa']"
      ]
     },
     "execution_count": 60,
     "metadata": {},
     "output_type": "execute_result"
    }
   ],
   "source": [
    "salaries= []\n",
    "for i in msal_tags:\n",
    "    salaries.append(i.text)\n",
    "salaries1= []\n",
    "for i in range(0, 10):\n",
    "    salaries1.append(salaries[i])\n",
    "salaries1\n"
   ]
  },
  {
   "cell_type": "code",
   "execution_count": 61,
   "id": "0027e3c7",
   "metadata": {},
   "outputs": [
    {
     "data": {
      "text/plain": [
       "(10, 10, 10, 10, 10)"
      ]
     },
     "execution_count": 61,
     "metadata": {},
     "output_type": "execute_result"
    }
   ],
   "source": [
    "len(company_names1),len(experience1),len(sal_record1),len(avg_sal1),len(salaries1)"
   ]
  },
  {
   "cell_type": "code",
   "execution_count": 62,
   "id": "b2b99e47",
   "metadata": {},
   "outputs": [
    {
     "data": {
      "text/html": [
       "<div>\n",
       "<style scoped>\n",
       "    .dataframe tbody tr th:only-of-type {\n",
       "        vertical-align: middle;\n",
       "    }\n",
       "\n",
       "    .dataframe tbody tr th {\n",
       "        vertical-align: top;\n",
       "    }\n",
       "\n",
       "    .dataframe thead th {\n",
       "        text-align: right;\n",
       "    }\n",
       "</style>\n",
       "<table border=\"1\" class=\"dataframe\">\n",
       "  <thead>\n",
       "    <tr style=\"text-align: right;\">\n",
       "      <th></th>\n",
       "      <th>Company Names</th>\n",
       "      <th>Experience</th>\n",
       "      <th>Salary Record</th>\n",
       "      <th>Avg Sal</th>\n",
       "      <th>Min&amp;Max Sal</th>\n",
       "    </tr>\n",
       "  </thead>\n",
       "  <tbody>\n",
       "    <tr>\n",
       "      <th>0</th>\n",
       "      <td>Google</td>\n",
       "      <td>1 yr exp</td>\n",
       "      <td>₹ 26.6 Lpa\\n(₹10.4 - ₹40) Lpa</td>\n",
       "      <td>₹ 26.6 Lpa</td>\n",
       "      <td>(₹10.4 - ₹40) Lpa</td>\n",
       "    </tr>\n",
       "    <tr>\n",
       "      <th>1</th>\n",
       "      <td>Microsoft Corporation</td>\n",
       "      <td>1-4 yrs exp</td>\n",
       "      <td>₹ 23.3 Lpa\\n(₹13 - ₹45) Lpa</td>\n",
       "      <td>₹ 23.3 Lpa</td>\n",
       "      <td>(₹13 - ₹45) Lpa</td>\n",
       "    </tr>\n",
       "    <tr>\n",
       "      <th>2</th>\n",
       "      <td>Goldman Sachs</td>\n",
       "      <td>2 yrs exp</td>\n",
       "      <td>₹ 21.2 Lpa\\n(₹12 - ₹30) Lpa</td>\n",
       "      <td>₹ 21.2 Lpa</td>\n",
       "      <td>(₹12 - ₹30) Lpa</td>\n",
       "    </tr>\n",
       "    <tr>\n",
       "      <th>3</th>\n",
       "      <td>Tekion</td>\n",
       "      <td>3-4 yrs exp</td>\n",
       "      <td>₹ 21.1 Lpa\\n(₹12.5 - ₹32) Lpa</td>\n",
       "      <td>₹ 21.1 Lpa</td>\n",
       "      <td>(₹12.5 - ₹32) Lpa</td>\n",
       "    </tr>\n",
       "    <tr>\n",
       "      <th>4</th>\n",
       "      <td>Flipkart</td>\n",
       "      <td>1-4 yrs exp</td>\n",
       "      <td>₹ 21.1 Lpa\\n(₹7.5 - ₹31) Lpa</td>\n",
       "      <td>₹ 21.1 Lpa</td>\n",
       "      <td>(₹7.5 - ₹31) Lpa</td>\n",
       "    </tr>\n",
       "    <tr>\n",
       "      <th>5</th>\n",
       "      <td>PayPal</td>\n",
       "      <td>1-2 yrs exp</td>\n",
       "      <td>₹ 20.1 Lpa\\n(₹12 - ₹30) Lpa</td>\n",
       "      <td>₹ 20.1 Lpa</td>\n",
       "      <td>(₹12 - ₹30) Lpa</td>\n",
       "    </tr>\n",
       "    <tr>\n",
       "      <th>6</th>\n",
       "      <td>Servicenow Software Development India</td>\n",
       "      <td>2-4 yrs exp</td>\n",
       "      <td>₹ 19.6 Lpa\\n(₹12 - ₹26) Lpa</td>\n",
       "      <td>₹ 19.6 Lpa</td>\n",
       "      <td>(₹12 - ₹26) Lpa</td>\n",
       "    </tr>\n",
       "    <tr>\n",
       "      <th>7</th>\n",
       "      <td>Amazon</td>\n",
       "      <td>1-4 yrs exp</td>\n",
       "      <td>₹ 19.4 Lpa\\n(₹8 - ₹43) Lpa</td>\n",
       "      <td>₹ 19.4 Lpa</td>\n",
       "      <td>(₹8 - ₹43) Lpa</td>\n",
       "    </tr>\n",
       "    <tr>\n",
       "      <th>8</th>\n",
       "      <td>Walmart</td>\n",
       "      <td>1-4 yrs exp</td>\n",
       "      <td>₹ 19.1 Lpa\\n(₹10.1 - ₹32.5) Lpa</td>\n",
       "      <td>₹ 19.1 Lpa</td>\n",
       "      <td>(₹10.1 - ₹32.5) Lpa</td>\n",
       "    </tr>\n",
       "    <tr>\n",
       "      <th>9</th>\n",
       "      <td>Arcesium</td>\n",
       "      <td>1-2 yrs exp</td>\n",
       "      <td>₹ 18.7 Lpa\\n(₹12 - ₹30) Lpa</td>\n",
       "      <td>₹ 18.7 Lpa</td>\n",
       "      <td>(₹12 - ₹30) Lpa</td>\n",
       "    </tr>\n",
       "  </tbody>\n",
       "</table>\n",
       "</div>"
      ],
      "text/plain": [
       "                           Company Names   Experience  \\\n",
       "0                                 Google     1 yr exp   \n",
       "1                  Microsoft Corporation  1-4 yrs exp   \n",
       "2                          Goldman Sachs    2 yrs exp   \n",
       "3                                 Tekion  3-4 yrs exp   \n",
       "4                               Flipkart  1-4 yrs exp   \n",
       "5                                 PayPal  1-2 yrs exp   \n",
       "6  Servicenow Software Development India  2-4 yrs exp   \n",
       "7                                 Amazon  1-4 yrs exp   \n",
       "8                                Walmart  1-4 yrs exp   \n",
       "9                               Arcesium  1-2 yrs exp   \n",
       "\n",
       "                     Salary Record     Avg Sal          Min&Max Sal  \n",
       "0    ₹ 26.6 Lpa\\n(₹10.4 - ₹40) Lpa  ₹ 26.6 Lpa    (₹10.4 - ₹40) Lpa  \n",
       "1      ₹ 23.3 Lpa\\n(₹13 - ₹45) Lpa  ₹ 23.3 Lpa      (₹13 - ₹45) Lpa  \n",
       "2      ₹ 21.2 Lpa\\n(₹12 - ₹30) Lpa  ₹ 21.2 Lpa      (₹12 - ₹30) Lpa  \n",
       "3    ₹ 21.1 Lpa\\n(₹12.5 - ₹32) Lpa  ₹ 21.1 Lpa    (₹12.5 - ₹32) Lpa  \n",
       "4     ₹ 21.1 Lpa\\n(₹7.5 - ₹31) Lpa  ₹ 21.1 Lpa     (₹7.5 - ₹31) Lpa  \n",
       "5      ₹ 20.1 Lpa\\n(₹12 - ₹30) Lpa  ₹ 20.1 Lpa      (₹12 - ₹30) Lpa  \n",
       "6      ₹ 19.6 Lpa\\n(₹12 - ₹26) Lpa  ₹ 19.6 Lpa      (₹12 - ₹26) Lpa  \n",
       "7       ₹ 19.4 Lpa\\n(₹8 - ₹43) Lpa  ₹ 19.4 Lpa       (₹8 - ₹43) Lpa  \n",
       "8  ₹ 19.1 Lpa\\n(₹10.1 - ₹32.5) Lpa  ₹ 19.1 Lpa  (₹10.1 - ₹32.5) Lpa  \n",
       "9      ₹ 18.7 Lpa\\n(₹12 - ₹30) Lpa  ₹ 18.7 Lpa      (₹12 - ₹30) Lpa  "
      ]
     },
     "execution_count": 62,
     "metadata": {},
     "output_type": "execute_result"
    }
   ],
   "source": [
    "companies= pd.DataFrame()\n",
    "companies['Company Names']= company_names1\n",
    "companies['Experience']= experience1\n",
    "companies['Salary Record']= sal_record1\n",
    "companies['Avg Sal']= avg_sal1\n",
    "companies['Min&Max Sal']=salaries1\n",
    "companies"
   ]
  },
  {
   "cell_type": "code",
   "execution_count": null,
   "id": "a12bd298",
   "metadata": {},
   "outputs": [],
   "source": []
  },
  {
   "cell_type": "code",
   "execution_count": null,
   "id": "66a5e0cb",
   "metadata": {},
   "outputs": [],
   "source": []
  }
 ],
 "metadata": {
  "kernelspec": {
   "display_name": "Python 3 (ipykernel)",
   "language": "python",
   "name": "python3"
  },
  "language_info": {
   "codemirror_mode": {
    "name": "ipython",
    "version": 3
   },
   "file_extension": ".py",
   "mimetype": "text/x-python",
   "name": "python",
   "nbconvert_exporter": "python",
   "pygments_lexer": "ipython3",
   "version": "3.9.7"
  }
 },
 "nbformat": 4,
 "nbformat_minor": 5
}
